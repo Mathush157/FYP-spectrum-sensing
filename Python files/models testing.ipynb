{
 "cells": [
  {
   "cell_type": "markdown",
   "id": "b5bb6e23",
   "metadata": {},
   "source": [
    "# Segmnetation Model Testing\n",
    "This notebook aims to test various segmentation models to determine the best one for this project. Most of these models are available from the Segmentation Models - PyTorch (SMP) library. All models use the same transfer learning-based encoder (ResNet-101), as exploring various encoders is not feasible within the project's timeframe. Additionally, ResNet-101 has proven to be reliable and provides optimal results, as mentioned in the report.\n",
    "\n",
    "A baseline model is created that does not use the ResNet-101 encoder, in order to highlight the significance of using a transfer learning-based encoder."
   ]
  },
  {
   "cell_type": "code",
   "execution_count": 1,
   "id": "bf9b2592",
   "metadata": {},
   "outputs": [],
   "source": [
    "import os\n",
    "import requests\n",
    "import zipfile\n",
    "import tarfile\n",
    "import h5py\n",
    "import glob\n",
    "import numpy as np\n",
    "import torch\n",
    "import torch.nn as nn\n",
    "import torch.nn.functional as F\n",
    "import matplotlib.pyplot as plt\n",
    "from tqdm import tqdm  # Import tqdm for progress bar\n",
    "from PIL import Image\n",
    "from itertools import zip_longest\n",
    "from sklearn.metrics import f1_score, precision_score, recall_score, jaccard_score\n",
    "from torchvision import models, transforms\n",
    "from torchvision.transforms.functional import resize\n",
    "from torch.utils.data import DataLoader, Dataset\n",
    "import segmentation_models_pytorch as smp\n",
    "from tensorflow.keras.preprocessing.image import ImageDataGenerator"
   ]
  },
  {
   "cell_type": "markdown",
   "id": "4e49e3ad",
   "metadata": {},
   "source": [
    "## Functions"
   ]
  },
  {
   "cell_type": "code",
   "execution_count": 2,
   "id": "7e278d00",
   "metadata": {},
   "outputs": [],
   "source": [
    "def load_images_from_dirs(directories):\n",
    "    images = []\n",
    "    for directory in directories:\n",
    "        image_files = [f for f in os.listdir(directory) if f.endswith('.png')]\n",
    "        for file_name in image_files:\n",
    "            file_path = os.path.join(directory, file_name) \n",
    "            img = Image.open(file_path)  \n",
    "            img = np.array(img)  \n",
    "            images.append(img)\n",
    "\n",
    "    return images\n",
    "\n",
    "    #This function, load_images_from_dirs, takes a list of directory paths as input. \n",
    "    #It searches for .png image files in each directory, opens them, converts them to numpy arrays, and stores them in a list. \n",
    "    #The function returns the list of images after processing all the directories.\n"
   ]
  },
  {
   "cell_type": "code",
   "execution_count": 4,
   "id": "b6645e3e",
   "metadata": {},
   "outputs": [],
   "source": [
    "class PixelLabelDatastore:\n",
    "    def __init__(self, directories, class_names):\n",
    "        self.class_names = class_names\n",
    "        self.pixel_label_ids = np.arange(len(class_names))  # Sequential IDs: 0, 1, 2, ...\n",
    "        self.pixel_labels = self.load_pixel_labels_from_dirs(directories)\n",
    "\n",
    "    def load_pixel_labels_from_dirs(self, directories):\n",
    "        pixel_labels = []\n",
    "        for directory in directories:\n",
    "            if not os.path.exists(directory):\n",
    "                print(f\"Directory does not exist: {directory}\")\n",
    "                continue\n",
    "\n",
    "            hfive_files = [f for f in os.listdir(directory) if f.endswith('.h5')]\n",
    "            for file_name in hfive_files:\n",
    "                file_path = os.path.join(directory, file_name)\n",
    "                if not os.path.exists(file_path):\n",
    "                    print(f\"File does not exist: {file_path}\")\n",
    "                    continue\n",
    "\n",
    "                try:\n",
    "                    with h5py.File(file_path, 'r') as hfive_file:\n",
    "                        if 'labels' in hfive_file:\n",
    "                            label_data = hfive_file['labels'][:]\n",
    "                            # Map pixel values to numeric indices\n",
    "                            numeric_labels = self.map_pixel_values_to_indices(label_data)\n",
    "                            # Map numeric indices to class names\n",
    "                            class_name_labels = self.map_indices_to_class_names(numeric_labels)\n",
    "                            pixel_labels.append({\n",
    "                                'original': numeric_labels,      # Numeric indices (0, 1, 2, ...)\n",
    "                                'mapped': class_name_labels      # Class names (\"Noise\", \"NR\", ...)\n",
    "                            })\n",
    "                        else:\n",
    "                            print(f\"'labels' dataset not found in {file_path}\")\n",
    "                except Exception as e:\n",
    "                    print(f\"Error loading file {file_path}: {e}\")\n",
    "\n",
    "        return pixel_labels\n",
    "\n",
    "    def map_pixel_values_to_indices(self, label_data):\n",
    "        # Map raw pixel values to sequential class indices (0, 1, 2, ...)\n",
    "        raw_to_sequential = {raw: idx for idx, raw in enumerate(\n",
    "            np.floor(np.arange(len(self.class_names)) / (len(self.class_names) - 1) * 255).astype(int)\n",
    "        )}\n",
    "        # Assign the \"Unknown\" class index (e.g., 3) to any value not in raw_to_sequential\n",
    "        return np.vectorize(lambda x: raw_to_sequential.get(x, len(self.class_names) - 1))(label_data)\n",
    "\n",
    "    def map_indices_to_class_names(self, numeric_labels):\n",
    "        # Map numeric indices (0, 1, 2, ...) to class names\n",
    "        return np.vectorize(lambda idx: self.class_names[idx])(numeric_labels)\n",
    "\n",
    "    def get_original_labels(self):\n",
    "        # Collect and return all original numeric labels\n",
    "        return [sample['original'] for sample in self.pixel_labels]\n",
    "\n",
    "    def get_mapped_labels(self):\n",
    "        # Collect and return all mapped class name labels\n",
    "        return [sample['mapped'] for sample in self.pixel_labels]\n",
    "\n",
    "#This class, PixelLabelDatastore, is designed to handle pixel-level labeled data for image segmentation. \n",
    "#It takes a list of directories and class names as input. The class loads pixel label data from .h5 files in the specified directories and \n",
    "#maps raw pixel values to class indices and class names.\n",
    "\n",
    "#The load_pixel_labels_from_dirs method loads and processes label data from .h5 files in each directory.\n",
    "#The map_pixel_values_to_indices method maps raw pixel values to sequential class indices.\n",
    "#The map_indices_to_class_names method maps class indices to class names.\n",
    "#The get_original_labels method retrieves the original numeric labels.\n",
    "#The get_mapped_labels method retrieves the mapped class name labels.\n",
    "        \n",
    "#This class helps in organizing and mapping pixel-level labeled data for image segmentation tasks."
   ]
  },
  {
   "cell_type": "code",
   "execution_count": 5,
   "id": "2809fccf",
   "metadata": {},
   "outputs": [],
   "source": [
    "def helper_spec_sense_partition_data(imds, pxds, parts):\n",
    "    \"\"\"\n",
    "    Partitions the image and pixel label datasets into training, validation, and test subsets.\n",
    "\n",
    "    Parameters:\n",
    "        imds (list): List of images (numpy arrays).\n",
    "        pxds (list): List of pixel label datasets (numpy arrays).\n",
    "        parts (list): A 1x3 list of percentages [train, validation, test].\n",
    "                     The sum of the elements must equal 100.\n",
    "\n",
    "    Returns:\n",
    "        tuple:\n",
    "        - imds_train, pxds_train: Training data subsets.\n",
    "        - imds_val, pxds_val: Validation data subsets.\n",
    "        - imds_test, pxds_test: Test data subsets.\n",
    "    \"\"\"\n",
    "    # Validate input\n",
    "    if len(parts) != 2 or sum(parts) != 100:\n",
    "        raise ValueError(\"Parts must be a list of three elements summing to 100.\")\n",
    "\n",
    "    # Set random seed for reproducibility\n",
    "    np.random.seed(0)\n",
    "\n",
    "    # Shuffle indices\n",
    "    num_files = len(imds)\n",
    "    shuffled_indices = np.random.permutation(num_files)\n",
    "\n",
    "    # Compute split indices\n",
    "    num_train = int(num_files * parts[0] / 100)\n",
    "    \n",
    "\n",
    "    # Split data\n",
    "    train_indices = shuffled_indices[:num_train]\n",
    "    test_indices = shuffled_indices[num_train:]\n",
    "\n",
    "    # Subset data\n",
    "    imds_train = [imds[i] for i in train_indices]\n",
    "    pxds_train = [pxds[i] for i in train_indices]\n",
    "\n",
    "    imds_test = [imds[i] for i in test_indices]\n",
    "    pxds_test = [pxds[i] for i in test_indices]\n",
    "\n",
    "    # Stack all original labels and images into single NumPy arrays for efficient tensor creation\n",
    "    labels_train = np.stack([sample['original'] for sample in pxds_train], axis=0)\n",
    "    images_train = np.stack(imds_train, axis=0)\n",
    "\n",
    "    labels_test = np.stack([sample['original'] for sample in pxds_test], axis=0)\n",
    "    images_test = np.stack(imds_test, axis=0)\n",
    "\n",
    "    # Return both partitioned and stacked datasets\n",
    "    return images_train, labels_train, images_test, labels_test\n",
    "\n",
    "#This function splits image and label data into training and test sets based on the percentages provided."
   ]
  },
  {
   "cell_type": "code",
   "execution_count": 6,
   "id": "968f273d",
   "metadata": {},
   "outputs": [],
   "source": [
    "# Combine datasets for final use\n",
    "def combine(imds, pxds):\n",
    "    \"\"\"Combine image and pixel label datasets.\"\"\"\n",
    "    return list(zip_longest(imds, pxds))"
   ]
  },
  {
   "cell_type": "code",
   "execution_count": 7,
   "id": "7cc29306",
   "metadata": {},
   "outputs": [],
   "source": [
    "class ImageLabelDataset(Dataset):\n",
    "    def __init__(self, images, labels):\n",
    "        self.images = images\n",
    "        self.labels = labels\n",
    "\n",
    "    def __len__(self):\n",
    "        return len(self.images)\n",
    "\n",
    "    def __getitem__(self, idx):\n",
    "        image = self.images[idx]\n",
    "        label = self.labels[idx]\n",
    "        return image, label\n",
    "\n",
    "#This class, ImageLabelDataset, is used to store images and their labels for PyTorch.\n",
    "\n",
    "#The __init__ method saves the images and labels when the dataset is created.\n",
    "#The __len__ method returns the number of images in the dataset.\n",
    "#The __getitem__ method gets an image and its label using an index.\n",
    "        \n",
    "#It helps in loading and using image-label pairs for training machine learning models in PyTorch."
   ]
  },
  {
   "cell_type": "code",
   "execution_count": 1,
   "id": "3748fcae",
   "metadata": {},
   "outputs": [],
   "source": [
    "def evaluate_model(model, val_loader, criterion, device, num_classes):\n",
    "    model.eval()  # Set the model to evaluation mode\n",
    "    running_loss = 0.0\n",
    "    all_preds = []  # To store all predictions\n",
    "    all_labels = []  # To store all true labels\n",
    "\n",
    "    with torch.no_grad():  # Disable gradient calculations for evaluation\n",
    "        for images, labels in tqdm(val_loader, desc='Validation', unit='batch'):\n",
    "            # Move data to GPU if available\n",
    "            images, labels = images.to(device), labels.to(device)\n",
    "\n",
    "            # Forward pass\n",
    "            outputs = model(images)\n",
    "\n",
    "            # Compute loss\n",
    "            loss = criterion(outputs, labels)\n",
    "            running_loss += loss.item()\n",
    "\n",
    "            # Collect predictions and true labels for metric calculation\n",
    "            preds = torch.argmax(outputs, dim=1)  # Get class predictions (shape: [batch_size, height, width])\n",
    "            all_preds.append(preds.cpu().numpy())  # Store the predictions (move to CPU)\n",
    "            all_labels.append(labels.cpu().numpy())  # Store the true labels (move to CPU)\n",
    "\n",
    "    # Flatten all predictions and labels to calculate metrics\n",
    "    all_preds = np.concatenate(all_preds, axis=0).flatten()  # Flatten predictions\n",
    "    all_labels = np.concatenate(all_labels, axis=0).flatten()  # Flatten true labels\n",
    "\n",
    "    # Calculate metrics\n",
    "    accuracy = (all_preds == all_labels).mean()  # Pixel-level accuracy\n",
    "    f1 = f1_score(all_labels, all_preds, average='weighted')  # F1 score (weighted)\n",
    "    precision = precision_score(all_labels, all_preds, average='weighted', zero_division=1)\n",
    "    recall = recall_score(all_labels, all_preds, average='weighted', zero_division=1)\n",
    "    iou = jaccard_score(all_labels, all_preds, average='weighted')  # IoU using sklearn's jaccard_score\n",
    "\n",
    "    # Compute average loss\n",
    "    avg_loss = running_loss / len(val_loader)\n",
    "\n",
    "    print(f\"Validation Loss: {avg_loss:.4f}, \"\n",
    "          f\"Accuracy: {accuracy:.4f}, F1 Score: {f1:.4f}, \"\n",
    "          f\"Precision: {precision:.4f}, Recall: {recall:.4f}, IoU: {iou:.4f}\")\n",
    "\n",
    "    return avg_loss, accuracy, f1, precision, recall, iou\n",
    "\n",
    "#the function evaluates the model's performance on the validation data and calculates \n",
    "#important metrics like accuracy, F1 score, precision, recall, and IoU."
   ]
  },
  {
   "cell_type": "markdown",
   "id": "c5ef3918",
   "metadata": {},
   "source": [
    "## Training Data directory and class setup"
   ]
  },
  {
   "cell_type": "code",
   "execution_count": 9,
   "id": "fd47d5ff",
   "metadata": {},
   "outputs": [],
   "source": [
    "train_data_dir =[r'<insert your trainingData directory here>']\n",
    "class_names = [\"Noise\", \"NR\", \"LTE\", \"Unknown\"]  # Define class names\n",
    "num_classes = len(class_names)\n",
    "pixel_label_ids = np.floor(np.arange(num_classes) / (num_classes - 1) * 255).astype(int)"
   ]
  },
  {
   "cell_type": "markdown",
   "id": "ec4fcdb4",
   "metadata": {},
   "source": [
    "## Image datastore\n",
    "A function that loads all .png images in each specified directory.\n",
    "For each image, it:\n",
    "- Collects file names ending in .png.\n",
    "- Opens the image, converts it to a NumPy array, and appends it to images.\n",
    "- This function will return a list of images (in NumPy array form) stored in training_images.\n"
   ]
  },
  {
   "cell_type": "code",
   "execution_count": 10,
   "id": "e9a98464",
   "metadata": {},
   "outputs": [
    {
     "name": "stdout",
     "output_type": "stream",
     "text": [
      "Loaded 918 images.\n"
     ]
    }
   ],
   "source": [
    "training_images = load_images_from_dirs(train_data_dir)\n",
    "print(f\"Loaded {len(training_images)} images.\")"
   ]
  },
  {
   "cell_type": "code",
   "execution_count": 11,
   "id": "78ea5a5a",
   "metadata": {
    "scrolled": true
   },
   "outputs": [
    {
     "name": "stdout",
     "output_type": "stream",
     "text": [
      "Loaded 918 sets of pixel labels.\n"
     ]
    }
   ],
   "source": [
    "# Load pixel labels using the updated PixelLabelDatastore class\n",
    "pxds_truth_lte_nr = PixelLabelDatastore(train_data_dir, class_names)\n",
    "\n",
    "# Print the number of datasets loaded (it will now reflect the number of samples)\n",
    "print(f\"Loaded {len(pxds_truth_lte_nr.pixel_labels)} sets of pixel labels.\")"
   ]
  },
  {
   "cell_type": "markdown",
   "id": "eaa84389",
   "metadata": {},
   "source": [
    "## Train test datasplit"
   ]
  },
  {
   "cell_type": "markdown",
   "id": "fa871d99-2dcb-4e80-a4ee-152e01c39cd8",
   "metadata": {},
   "source": [
    "This code combines the image and label datasets for training and testing, and then prints the number of pairs in each set."
   ]
  },
  {
   "cell_type": "code",
   "execution_count": 16,
   "id": "7aaff2d9",
   "metadata": {},
   "outputs": [],
   "source": [
    "# Partition data\n",
    "parts = [80, 20]  # 80% train, 20% test\n",
    "imds_train, pxds_train, imds_test, pxds_test = helper_spec_sense_partition_data(\n",
    "    training_images, pxds_truth_lte_nr.pixel_labels, parts)"
   ]
  },
  {
   "cell_type": "code",
   "execution_count": 17,
   "id": "34812ddc",
   "metadata": {
    "scrolled": true
   },
   "outputs": [
    {
     "name": "stdout",
     "output_type": "stream",
     "text": [
      "Training set: 734 pairs\n",
      "Test set: 184 pairs\n"
     ]
    }
   ],
   "source": [
    "cds_train = combine(imds_train, pxds_train)\n",
    "cds_test = combine(imds_test, pxds_test)\n",
    "\n",
    "print(f\"Training set: {len(cds_train)} pairs\")\n",
    "print(f\"Test set: {len(cds_test)} pairs\")"
   ]
  },
  {
   "cell_type": "markdown",
   "id": "f0c05463",
   "metadata": {},
   "source": [
    "## PyTorch tensors conversion"
   ]
  },
  {
   "cell_type": "markdown",
   "id": "753fad0e-6c3f-4e53-aa44-2cad1e828381",
   "metadata": {},
   "source": [
    "This code prepares the image and label data for training in PyTorch, normalizes the images, Permute Tensor Dimensions, and prints the tensor shapes for verification. "
   ]
  },
  {
   "cell_type": "code",
   "execution_count": 18,
   "id": "f386a4a2",
   "metadata": {
    "scrolled": true
   },
   "outputs": [
    {
     "name": "stdout",
     "output_type": "stream",
     "text": [
      "Training images tensor shape: torch.Size([734, 3, 128, 128])\n",
      "Training labels tensor shape: torch.Size([734, 128, 128])\n",
      "Training images tensor shape: torch.Size([184, 3, 128, 128])\n",
      "Training labels tensor shape: torch.Size([184, 128, 128])\n"
     ]
    }
   ],
   "source": [
    "# Now you can convert the stacked arrays to tensors\n",
    "images_train_tensor = torch.tensor(imds_train, dtype=torch.float32)\n",
    "labels_train_tensor = torch.tensor(pxds_train, dtype=torch.long)\n",
    "\n",
    "images_test_tensor = torch.tensor(imds_test, dtype=torch.float32)\n",
    "labels_test_tensor = torch.tensor(pxds_test, dtype=torch.long)\n",
    "\n",
    "# Normalize images (after converting to tensors)\n",
    "images_train_tensor = images_train_tensor / 255.0\n",
    "images_train_tensor = images_train_tensor.permute(0, 3, 1, 2)  # Convert to (N, C, H, W)\n",
    "\n",
    "images_test_tensor = images_test_tensor / 255.0\n",
    "images_test_tensor = images_test_tensor.permute(0, 3, 1, 2)\n",
    "\n",
    "# Example of tensor shapes\n",
    "print(f\"Training images tensor shape: {images_train_tensor.shape}\")\n",
    "print(f\"Training labels tensor shape: {labels_train_tensor.shape}\")\n",
    "\n",
    "print(f\"Training images tensor shape: {images_test_tensor.shape}\")\n",
    "print(f\"Training labels tensor shape: {labels_test_tensor.shape}\")"
   ]
  },
  {
   "cell_type": "markdown",
   "id": "aade379e",
   "metadata": {},
   "source": [
    "## Data Loading"
   ]
  },
  {
   "cell_type": "code",
   "execution_count": 19,
   "id": "a65c3456",
   "metadata": {},
   "outputs": [],
   "source": [
    "# Create datasets\n",
    "train_dataset = ImageLabelDataset(images=images_train_tensor, labels=labels_train_tensor)\n",
    "test_dataset = ImageLabelDataset(images=images_test_tensor, labels=labels_test_tensor)\n",
    "\n",
    "# Create DataLoaders\n",
    "batch_size = 16  # You can adjust the batch size based on your available memory\n",
    "train_loader = DataLoader(train_dataset, batch_size=batch_size, shuffle=True)\n",
    "test_loader = DataLoader(test_dataset, batch_size=batch_size, shuffle=False)\n"
   ]
  },
  {
   "cell_type": "markdown",
   "id": "32b9c6d2",
   "metadata": {},
   "source": [
    "## Building custom model"
   ]
  },
  {
   "cell_type": "code",
   "execution_count": 20,
   "id": "b485f950",
   "metadata": {},
   "outputs": [
    {
     "name": "stdout",
     "output_type": "stream",
     "text": [
      "Output shape: torch.Size([1, 3, 128, 128])\n",
      "SimpleSemanticSegmentationNet(\n",
      "  (encoder): Sequential(\n",
      "    (0): Conv2d(3, 64, kernel_size=(3, 3), stride=(1, 1), padding=(1, 1))\n",
      "    (1): ReLU()\n",
      "    (2): BatchNorm2d(64, eps=1e-05, momentum=0.1, affine=True, track_running_stats=True)\n",
      "    (3): Conv2d(64, 128, kernel_size=(3, 3), stride=(1, 1), padding=(1, 1))\n",
      "    (4): ReLU()\n",
      "    (5): BatchNorm2d(128, eps=1e-05, momentum=0.1, affine=True, track_running_stats=True)\n",
      "    (6): MaxPool2d(kernel_size=2, stride=2, padding=0, dilation=1, ceil_mode=False)\n",
      "    (7): Conv2d(128, 256, kernel_size=(3, 3), stride=(1, 1), padding=(1, 1))\n",
      "    (8): ReLU()\n",
      "    (9): BatchNorm2d(256, eps=1e-05, momentum=0.1, affine=True, track_running_stats=True)\n",
      "    (10): MaxPool2d(kernel_size=2, stride=2, padding=0, dilation=1, ceil_mode=False)\n",
      "    (11): Conv2d(256, 512, kernel_size=(3, 3), stride=(1, 1), padding=(1, 1))\n",
      "    (12): ReLU()\n",
      "    (13): BatchNorm2d(512, eps=1e-05, momentum=0.1, affine=True, track_running_stats=True)\n",
      "    (14): MaxPool2d(kernel_size=2, stride=2, padding=0, dilation=1, ceil_mode=False)\n",
      "  )\n",
      "  (multi_scale): ModuleList(\n",
      "    (0): Conv2d(512, 512, kernel_size=(1, 1), stride=(1, 1))\n",
      "    (1): Conv2d(512, 512, kernel_size=(3, 3), stride=(1, 1), padding=(1, 1))\n",
      "    (2): Conv2d(512, 512, kernel_size=(5, 5), stride=(1, 1), padding=(2, 2))\n",
      "  )\n",
      "  (decoder): Sequential(\n",
      "    (0): ConvTranspose2d(512, 256, kernel_size=(4, 4), stride=(2, 2), padding=(1, 1))\n",
      "    (1): ReLU()\n",
      "    (2): BatchNorm2d(256, eps=1e-05, momentum=0.1, affine=True, track_running_stats=True)\n",
      "    (3): ConvTranspose2d(256, 128, kernel_size=(4, 4), stride=(2, 2), padding=(1, 1))\n",
      "    (4): ReLU()\n",
      "    (5): BatchNorm2d(128, eps=1e-05, momentum=0.1, affine=True, track_running_stats=True)\n",
      "    (6): ConvTranspose2d(128, 64, kernel_size=(4, 4), stride=(2, 2), padding=(1, 1))\n",
      "    (7): ReLU()\n",
      "    (8): BatchNorm2d(64, eps=1e-05, momentum=0.1, affine=True, track_running_stats=True)\n",
      "    (9): Conv2d(64, 3, kernel_size=(1, 1), stride=(1, 1))\n",
      "  )\n",
      ")\n"
     ]
    }
   ],
   "source": [
    "class SimpleSemanticSegmentationNet(nn.Module):\n",
    "    def __init__(self, num_classes):\n",
    "        super(SimpleSemanticSegmentationNet, self).__init__()\n",
    "\n",
    "        # Encoder (Feature extraction with standard convolutions)\n",
    "        self.encoder = nn.Sequential(\n",
    "            nn.Conv2d(3, 64, kernel_size=3, padding=1),  # No dilation\n",
    "            nn.ReLU(),\n",
    "            nn.BatchNorm2d(64),\n",
    "\n",
    "            nn.Conv2d(64, 128, kernel_size=3, padding=1),  # No dilation\n",
    "            nn.ReLU(),\n",
    "            nn.BatchNorm2d(128),\n",
    "            nn.MaxPool2d(kernel_size=2, stride=2),  # Pooling\n",
    "\n",
    "            nn.Conv2d(128, 256, kernel_size=3, padding=1),  # No dilation\n",
    "            nn.ReLU(),\n",
    "            nn.BatchNorm2d(256),\n",
    "            nn.MaxPool2d(kernel_size=2, stride=2),  # Pooling\n",
    "\n",
    "            nn.Conv2d(256, 512, kernel_size=3, padding=1),  # No dilation\n",
    "            nn.ReLU(),\n",
    "            nn.BatchNorm2d(512),\n",
    "            nn.MaxPool2d(kernel_size=2, stride=2)  # Pooling\n",
    "        )\n",
    "\n",
    "        # Multi-scale feature extraction (Alternative to ASPP)\n",
    "        self.multi_scale = nn.ModuleList([\n",
    "            nn.Conv2d(512, 512, kernel_size=1, padding=0),  # Smallest scale\n",
    "            nn.Conv2d(512, 512, kernel_size=3, padding=1),  # Medium scale\n",
    "            nn.Conv2d(512, 512, kernel_size=5, padding=2)   # Largest scale\n",
    "        ])\n",
    "\n",
    "        # Decoder (Progressive upsampling with ConvTranspose2d)\n",
    "        self.decoder = nn.Sequential(\n",
    "            nn.ConvTranspose2d(512, 256, kernel_size=4, stride=2, padding=1),\n",
    "            nn.ReLU(),\n",
    "            nn.BatchNorm2d(256),\n",
    "\n",
    "            nn.ConvTranspose2d(256, 128, kernel_size=4, stride=2, padding=1),\n",
    "            nn.ReLU(),\n",
    "            nn.BatchNorm2d(128),\n",
    "\n",
    "            nn.ConvTranspose2d(128, 64, kernel_size=4, stride=2, padding=1),\n",
    "            nn.ReLU(),\n",
    "            nn.BatchNorm2d(64),\n",
    "\n",
    "            nn.Conv2d(64, num_classes, kernel_size=(1, 1))  # Final classification layer\n",
    "        )\n",
    "\n",
    "    def forward(self, x):\n",
    "        #print(f\"Input shape: {x.shape}\")  # Debugging input shape\n",
    "\n",
    "        # Pass through the encoder\n",
    "        x = self.encoder(x)\n",
    "        #print(f\"After encoder: {x.shape}\")  # Debugging shape after encoder\n",
    "\n",
    "        # Apply multi-scale convolutions and sum the outputs\n",
    "        multi_scale_outputs = [conv(x) for conv in self.multi_scale]\n",
    "        #for i, feat in enumerate(multi_scale_outputs):\n",
    "            #print(f\"Multi-scale feature {i} shape: {feat.shape}\")\n",
    "\n",
    "        multi_scale_features = torch.sum(torch.stack(multi_scale_outputs), dim=0)\n",
    "        #print(f\"After multi-scale fusion: {multi_scale_features.shape}\")\n",
    "\n",
    "        # Pass through the decoder\n",
    "        x = self.decoder(multi_scale_features)\n",
    "        #print(f\"After decoder: {x.shape}\")  # Debugging shape after decoder\n",
    "\n",
    "        return x\n",
    "\n",
    "# Define the network\n",
    "num_classes = len(torch.unique(labels_train_tensor))  # Example number of classes\n",
    "model = SimpleSemanticSegmentationNet(num_classes)\n",
    "\n",
    "# Generate a dummy input tensor with shape (batch_size, channels, height, width)\n",
    "dummy_input = torch.randn(1, 3, 128, 128)  # Batch size = 1, 3 channels, 128x128 image\n",
    "\n",
    "# Forward pass with debugging prints\n",
    "output = model(dummy_input)\n",
    "\n",
    "print(f\"Output shape: {output.shape}\")  # Final output shape\n",
    "\n",
    "# Summary of the model\n",
    "print(model)\n"
   ]
  },
  {
   "cell_type": "markdown",
   "id": "b3cd9f0e-da25-4f70-9d9d-6bedbbfeaa25",
   "metadata": {},
   "source": [
    "#### Model Description\n",
    "\n",
    "Purpose:  Designed to classify each pixel of an image into one of the specified classes (Noise, NR, LTE, Unkown)\n",
    "\n",
    "##### Encoder (Feature extraction):\n",
    "- Purpose: Extract high-level features from the input image\n",
    "- Operations:\n",
    "    1. It consists of a series of convolutional layers (Conv2d) with ReLU activation functions and batch normalization (BatchNorm2d) to stabilize the training.\n",
    "    2. After each convolutional layer, max-pooling (MaxPool2d) is applied to downsample the feature maps, reducing their spatial dimensions.\n",
    "    3. The encoder captures spatial patterns and reduces the resolution of the input image step by step.\n",
    "- The layers used are:\n",
    "    1. Conv2d with increasing output channels: 64, 128, 256, 512.\n",
    "    2. Max pooling at each stage to reduce the spatial resolution.\n",
    "##### Multi-scale feature extraction:\n",
    "- Purpose: Capture features at different scales to help the model recognize objects or patterns of varying sizes.\n",
    "- Operations:\n",
    "    1. Three convolutional layers (Conv2d) are applied with different kernel sizes: 1, 3, and 5. This allows the model to process the image at different receptive fields (scales).\n",
    "    2. The outputs of these convolutions are summed together to combine multi-scale features, helping the network capture different spatial patterns effectively.\n",
    "##### Decoder (Upsampling to original resolution):\n",
    "- Purpose: Upsample the features to the original image resolution and prepare them for pixel-wise classification.\n",
    "- Operations:\n",
    "    1. It consists of a series of transposed convolution layers (ConvTranspose2d), each followed by ReLU and batch normalization.\n",
    "    2. The transposed convolutions progressively upsample the feature maps, which increases the spatial dimensions back to the original size (i.e., from reduced resolution in the encoder).\n",
    "    3. The final layer (Conv2d) produces the output with the number of channels equal to num_classes, which corresponds to the number of classes for semantic segmentation. This is the pixel-wise classification output.\n",
    "##### Forward Pass:\n",
    "1. The input image x passes through the encoder, which extracts high-level features.\n",
    "2. Multi-scale convolutions are then applied on the encoder output, and the results are summed together.\n",
    "3. The combined multi-scale features are passed through the decoder, which upsamples them and finally outputs a segmentation map of size (num_classes, height, width).\n",
    "##### Example Usage:\n",
    "Input: A dummy input tensor of shape (1, 3, 128, 128), where:\n",
    "1 is the batch size.\n",
    "\n",
    "3 is the number of input channels (RGB image).\n",
    "\n",
    "128x128 is the height and width of the image.\n",
    "\n",
    "Output: The output tensor will have a shape of (1, num_classes, 128, 128), where num_classes is the number of segmentation classes (4 in this case), and 128x128 is the output image size."
   ]
  },
  {
   "cell_type": "markdown",
   "id": "82cbb6cd-9e79-4b87-a8b6-c9f351d45425",
   "metadata": {},
   "source": [
    "#### Common Terms:\n",
    "\n",
    "##### Convolutional Layers (Conv2d):\n",
    "Definition: Convolutional layers are the core building blocks of Convolutional Neural Networks (CNNs). They are used to automatically learn spatial hierarchies of features from input data (usually images).\n",
    "\n",
    "\n",
    "Function: A convolutional layer applies a series of small filters (kernels) to the input image or feature map. These filters slide over the image, performing element-wise multiplication between the filter and the part of the image it is over, followed by summing the result. This produces a feature map.\n",
    "\n",
    "##### ReLU Activation: \n",
    "After the convolution operation, an activation function like ReLU (Rectified Linear Unit) is applied. ReLU transforms negative values into zero and leaves positive values unchanged.\n",
    "\n",
    "Why: This introduces non-linearity, helping the network learn complex patterns.\n",
    "##### Batch Normalization (BatchNorm2d): \n",
    "This is a technique to normalize the activations of the neurons in each mini-batch. It adjusts and scales the output of the convolutional layer to reduce internal covariate shift.\n",
    "Why: It speeds up training, makes the model more stable, and can lead to better performance.\n",
    "#####  Max-Pooling (MaxPool2d):\n",
    "Definition: Max-pooling is a downsampling operation used to reduce the spatial dimensions (height and width) of the input feature maps. It is typically applied after convolutional layers.\n",
    "\n",
    "Function: Max-pooling selects the maximum value from a specific region (a window) of the feature map. For example, if the window size is 2x2, it will take the largest value from the 2x2 block and discard the rest.\n",
    "\n",
    "Why: Max-pooling reduces the size of the feature maps, helping the network become more computationally efficient and invariant to small translations in the image (i.e., it becomes less sensitive to small shifts in the input).\n",
    "##### Receptive Fields (Scales):\n",
    "Definition: The receptive field refers to the region of the input image that a neuron in the network can \"see\" or \"sense\" as it processes the image.\n",
    "\n",
    "\n",
    "Function: When a convolutional layer applies a filter, each neuron in the output feature map is looking at a small portion of the input image. This small portion is the receptive field.\n",
    "\n",
    "eg:\n",
    "- Small scale (1x1 filter): Looks at fine, detailed patterns.\n",
    "- Medium scale (3x3 filter): Captures slightly broader patterns.\n",
    "- Large scale (5x5 filter): Captures large patterns or structures.\n",
    "\n",
    "Why: Using multiple receptive fields (scales) helps the network capture information at different levels of abstraction—small details, medium patterns, and large structures.\n",
    "\n",
    "##### ConvTranspose2d (Deconvolution or Upsampling):\n",
    "Definition: ConvTranspose2d is the reverse operation of a convolution. Instead of reducing the spatial dimensions like convolution does, it increases the spatial dimensions of the input feature map (also called upsampling or deconvolution).\n",
    "\n",
    "Function: It applies a filter to the input but performs an operation that effectively \"upsamples\" the feature map. This is commonly used in decoder sections of segmentation networks to restore the spatial resolution after downsampling in the encoder.\n",
    "\n",
    "Why: The purpose is to reconstruct the high-resolution output (like a segmentation mask) from the downsampled features extracted in the encoder part of the network."
   ]
  },
  {
   "cell_type": "markdown",
   "id": "74705291",
   "metadata": {},
   "source": [
    "### Define loss function and optimiser"
   ]
  },
  {
   "cell_type": "code",
   "execution_count": 21,
   "id": "1d0b89c8",
   "metadata": {},
   "outputs": [],
   "source": [
    "# Set device to CUDA if available, otherwise use CPU\n",
    "device = torch.device(\"cuda\" if torch.cuda.is_available() else \"cpu\")\n",
    "\n",
    "model = SimpleSemanticSegmentationNet(num_classes).to(device)\n",
    "\n",
    "\n",
    "# CrossEntropyLoss for segmentation tasks\n",
    "criterion = nn.CrossEntropyLoss()\n",
    "\n",
    "# Adam optimizer for training\n",
    "optimizer = torch.optim.Adam(model.parameters(), lr=0.001)\n"
   ]
  },
  {
   "cell_type": "code",
   "execution_count": 22,
   "id": "f112814c",
   "metadata": {},
   "outputs": [
    {
     "name": "stderr",
     "output_type": "stream",
     "text": [
      "Epoch 1/10: 100%|████████████████████████████████████████████████████████| 46/46 [00:09<00:00,  5.00batch/s, loss=1.06]\n"
     ]
    },
    {
     "name": "stdout",
     "output_type": "stream",
     "text": [
      "Epoch [1/10], Loss: 1.0891, Accuracy: 0.4032, F1 Score: 0.3826, Precision: 0.3792, Recall: 0.4032\n"
     ]
    },
    {
     "name": "stderr",
     "output_type": "stream",
     "text": [
      "Epoch 2/10: 100%|████████████████████████████████████████████████████████| 46/46 [00:08<00:00,  5.27batch/s, loss=1.07]\n"
     ]
    },
    {
     "name": "stdout",
     "output_type": "stream",
     "text": [
      "Epoch [2/10], Loss: 1.0494, Accuracy: 0.4411, F1 Score: 0.3798, Precision: 0.4002, Recall: 0.4411\n"
     ]
    },
    {
     "name": "stderr",
     "output_type": "stream",
     "text": [
      "Epoch 3/10: 100%|████████████████████████████████████████████████████████| 46/46 [00:06<00:00,  6.87batch/s, loss=1.03]\n"
     ]
    },
    {
     "name": "stdout",
     "output_type": "stream",
     "text": [
      "Epoch [3/10], Loss: 1.0321, Accuracy: 0.4682, F1 Score: 0.4020, Precision: 0.4113, Recall: 0.4682\n"
     ]
    },
    {
     "name": "stderr",
     "output_type": "stream",
     "text": [
      "Epoch 4/10: 100%|███████████████████████████████████████████████████████| 46/46 [00:06<00:00,  6.60batch/s, loss=0.991]\n"
     ]
    },
    {
     "name": "stdout",
     "output_type": "stream",
     "text": [
      "Epoch [4/10], Loss: 1.0105, Accuracy: 0.4963, F1 Score: 0.4353, Precision: 0.4105, Recall: 0.4963\n"
     ]
    },
    {
     "name": "stderr",
     "output_type": "stream",
     "text": [
      "Epoch 5/10: 100%|███████████████████████████████████████████████████████████| 46/46 [00:06<00:00,  7.24batch/s, loss=1]\n"
     ]
    },
    {
     "name": "stdout",
     "output_type": "stream",
     "text": [
      "Epoch [5/10], Loss: 0.9923, Accuracy: 0.5171, F1 Score: 0.4568, Precision: 0.4793, Recall: 0.5171\n"
     ]
    },
    {
     "name": "stderr",
     "output_type": "stream",
     "text": [
      "Epoch 6/10: 100%|███████████████████████████████████████████████████████| 46/46 [00:06<00:00,  7.31batch/s, loss=0.983]\n"
     ]
    },
    {
     "name": "stdout",
     "output_type": "stream",
     "text": [
      "Epoch [6/10], Loss: 0.9731, Accuracy: 0.5285, F1 Score: 0.4741, Precision: 0.4943, Recall: 0.5285\n"
     ]
    },
    {
     "name": "stderr",
     "output_type": "stream",
     "text": [
      "Epoch 7/10: 100%|███████████████████████████████████████████████████████| 46/46 [00:06<00:00,  7.03batch/s, loss=0.955]\n"
     ]
    },
    {
     "name": "stdout",
     "output_type": "stream",
     "text": [
      "Epoch [7/10], Loss: 0.9529, Accuracy: 0.5432, F1 Score: 0.5141, Precision: 0.5239, Recall: 0.5432\n"
     ]
    },
    {
     "name": "stderr",
     "output_type": "stream",
     "text": [
      "Epoch 8/10: 100%|███████████████████████████████████████████████████████| 46/46 [00:06<00:00,  7.23batch/s, loss=0.883]\n"
     ]
    },
    {
     "name": "stdout",
     "output_type": "stream",
     "text": [
      "Epoch [8/10], Loss: 0.9079, Accuracy: 0.5763, F1 Score: 0.5639, Precision: 0.5681, Recall: 0.5763\n"
     ]
    },
    {
     "name": "stderr",
     "output_type": "stream",
     "text": [
      "Epoch 9/10: 100%|███████████████████████████████████████████████████████| 46/46 [00:06<00:00,  7.24batch/s, loss=0.764]\n"
     ]
    },
    {
     "name": "stdout",
     "output_type": "stream",
     "text": [
      "Epoch [9/10], Loss: 0.8437, Accuracy: 0.6135, F1 Score: 0.6056, Precision: 0.6097, Recall: 0.6135\n"
     ]
    },
    {
     "name": "stderr",
     "output_type": "stream",
     "text": [
      "Epoch 10/10: 100%|██████████████████████████████████████████████████████| 46/46 [00:06<00:00,  7.23batch/s, loss=0.767]\n"
     ]
    },
    {
     "name": "stdout",
     "output_type": "stream",
     "text": [
      "Epoch [10/10], Loss: 0.8023, Accuracy: 0.6284, F1 Score: 0.6217, Precision: 0.6251, Recall: 0.6284\n",
      "\n",
      "Accuracy for each epoch: [0.40317604002575785, 0.4410934240356778, 0.468208915855969, 0.49632425334213215, 0.5170578293969261, 0.5285320230011069, 0.5431517723145862, 0.5763487439064628, 0.6134922952677964, 0.6283780547513624]\n"
     ]
    }
   ],
   "source": [
    "num_epochs = 10  # Set the number of epochs for training\n",
    "\n",
    "# Initialize a list to store accuracy for each epoch\n",
    "accuracy_per_epoch_baseline = []\n",
    "\n",
    "for epoch in range(num_epochs):\n",
    "    model.train()  # Set the model to training mode\n",
    "    running_loss = 0.0\n",
    "    all_preds = []  # To store all predictions\n",
    "    all_labels = []  # To store all true labels\n",
    "    \n",
    "    # Wrap the train_loader with tqdm for a progress bar\n",
    "    with tqdm(train_loader, desc=f'Epoch {epoch+1}/{num_epochs}', unit='batch') as tepoch:\n",
    "        for images, labels in tepoch:\n",
    "            # Move data to GPU if available\n",
    "            images, labels = images.to(device), labels.to(device)\n",
    "\n",
    "            optimizer.zero_grad()  # Zero the parameter gradients\n",
    "\n",
    "            # Forward pass\n",
    "            outputs = model(images)\n",
    "\n",
    "            # Compute loss\n",
    "            loss = criterion(outputs, labels)\n",
    "            loss.backward()  # Backpropagation\n",
    "            optimizer.step()  # Update weights\n",
    "\n",
    "            running_loss += loss.item()\n",
    "\n",
    "            # Collect predictions and true labels for metric calculation\n",
    "            preds = torch.argmax(outputs, dim=1)  # Get class predictions (shape: [batch_size, height, width])\n",
    "            \n",
    "            all_preds.append(preds.cpu().numpy())  # Store the predictions (move to CPU)\n",
    "            all_labels.append(labels.cpu().numpy())  # Store the true labels (move to CPU)\n",
    "\n",
    "            # Update progress bar with loss info\n",
    "            tepoch.set_postfix(loss=loss.item())\n",
    "\n",
    "    # Flatten all predictions and labels to calculate metrics\n",
    "    all_preds = np.concatenate(all_preds, axis=0)  # Concatenate predictions\n",
    "    all_labels = np.concatenate(all_labels, axis=0)  # Concatenate true labels\n",
    "\n",
    "    # Calculate accuracy\n",
    "    accuracy = (all_preds == all_labels).mean()  # Pixel-level accuracy\n",
    "    f1 = f1_score(all_labels.flatten(), all_preds.flatten(), average='weighted')  # F1 score (weighted)\n",
    "    precision = precision_score(all_labels.flatten(), all_preds.flatten(), average='weighted', zero_division=1)\n",
    "    recall = recall_score(all_labels.flatten(), all_preds.flatten(), average='weighted', zero_division=1)\n",
    "\n",
    "    # Store accuracy for this epoch\n",
    "    accuracy_per_epoch_baseline.append(accuracy)\n",
    "\n",
    "    # Print statistics every epoch\n",
    "    print(f\"Epoch [{epoch+1}/{num_epochs}], Loss: {running_loss / len(train_loader):.4f}, \"\n",
    "          f\"Accuracy: {accuracy:.4f}, F1 Score: {f1:.4f}, Precision: {precision:.4f}, Recall: {recall:.4f}\")\n",
    "\n",
    "# After training, you can print the accuracies for all epochs\n",
    "print(f\"\\nAccuracy for each epoch: {accuracy_per_epoch_baseline}\")\n"
   ]
  },
  {
   "cell_type": "markdown",
   "id": "3ba7d06e-73cf-4398-82ad-3f66e372eeba",
   "metadata": {},
   "source": [
    "This training loop trains a model for 10 epochs, where in each epoch, it performs a forward pass on the training data, computes the loss, and updates the model weights using backpropagation and the optimizer. It tracks predictions and true labels to calculate metrics such as accuracy, F1 score, precision, and recall after each epoch. The loop also displays a progress bar using tqdm and prints out the loss, accuracy, F1 score, precision, and recall at the end of each epoch. Additionally, it stores the accuracy for each epoch and prints the accuracy values at the end of training to show the model's performance over time."
   ]
  },
  {
   "cell_type": "code",
   "execution_count": 23,
   "id": "17db2355",
   "metadata": {
    "scrolled": true
   },
   "outputs": [
    {
     "name": "stderr",
     "output_type": "stream",
     "text": [
      "Validation: 100%|███████████████████████████████████████████████████████████████████| 12/12 [00:01<00:00,  9.01batch/s]\n"
     ]
    },
    {
     "name": "stdout",
     "output_type": "stream",
     "text": [
      "Validation Loss: 0.8036, Accuracy: 0.6274, F1 Score: 0.6220, Precision: 0.6230, Recall: 0.6274, IoU: 0.4561\n"
     ]
    },
    {
     "data": {
      "text/plain": [
       "(0.8036289612452189,\n",
       " 0.6274112203846807,\n",
       " 0.6219762855237922,\n",
       " 0.6230157876081306,\n",
       " 0.6274112203846807,\n",
       " 0.45608901059323104)"
      ]
     },
     "execution_count": 23,
     "metadata": {},
     "output_type": "execute_result"
    }
   ],
   "source": [
    "  # Evaluate on the validation dataset\n",
    "evaluate_model(model, test_loader, criterion, device, num_classes)"
   ]
  },
  {
   "cell_type": "markdown",
   "id": "1c7a91db-79a2-4ea8-89cc-004d3d03ba19",
   "metadata": {},
   "source": [
    "The model without any pretrained encoder/backbone has achieved subpar results:\n",
    "\n",
    "Accurcary: 62.74%\n",
    "\n",
    "F1 score: 62.2%\n",
    "\n",
    "IoU score: 45.61%"
   ]
  },
  {
   "cell_type": "markdown",
   "id": "e395d712-e747-4863-95b2-50bc797b2107",
   "metadata": {},
   "source": [
    "## PSPnet - SMP\n",
    "PSPNet (Pyramid Scene Parsing Network) is a deep learning model designed for semantic segmentation, introduced by Zhao et al. in 2017. It enhances segmentation accuracy by using global context information, which is crucial for understanding objects and their relationships within a scene.\n",
    "\n",
    "ResNet Backbone: Extracts deep hierarchical features from the image.\n",
    "\n",
    "Pyramid Pooling Module (PPM): Captures multi-scale context information.\n",
    "\n",
    "Final Feature Fusion: Combines global and local information.\n",
    "\n",
    "Pixel-wise Prediction: Generates final segmentation map."
   ]
  },
  {
   "cell_type": "code",
   "execution_count": 26,
   "id": "a418d530-457e-4b35-a69e-517178373f22",
   "metadata": {},
   "outputs": [
    {
     "name": "stderr",
     "output_type": "stream",
     "text": [
      "Epoch 1/10: 100%|███████████████████████████████████████████████████████████| 46/46 [00:02<00:00, 15.51it/s, loss=1.02]\n"
     ]
    },
    {
     "name": "stdout",
     "output_type": "stream",
     "text": [
      "Epoch [1/10], Loss: 1.1105, Accuracy: 0.4660, F1 Score: 0.4490, Precision: 0.4433, Recall: 0.4660\n"
     ]
    },
    {
     "name": "stderr",
     "output_type": "stream",
     "text": [
      "Epoch 2/10: 100%|███████████████████████████████████████████████████████████| 46/46 [00:02<00:00, 16.54it/s, loss=0.99]\n"
     ]
    },
    {
     "name": "stdout",
     "output_type": "stream",
     "text": [
      "Epoch [2/10], Loss: 0.9711, Accuracy: 0.5463, F1 Score: 0.5288, Precision: 0.5279, Recall: 0.5463\n"
     ]
    },
    {
     "name": "stderr",
     "output_type": "stream",
     "text": [
      "Epoch 3/10: 100%|██████████████████████████████████████████████████████████| 46/46 [00:02<00:00, 18.11it/s, loss=0.816]\n"
     ]
    },
    {
     "name": "stdout",
     "output_type": "stream",
     "text": [
      "Epoch [3/10], Loss: 0.9130, Accuracy: 0.5769, F1 Score: 0.5639, Precision: 0.5648, Recall: 0.5769\n"
     ]
    },
    {
     "name": "stderr",
     "output_type": "stream",
     "text": [
      "Epoch 4/10: 100%|██████████████████████████████████████████████████████████| 46/46 [00:02<00:00, 18.89it/s, loss=0.835]\n"
     ]
    },
    {
     "name": "stdout",
     "output_type": "stream",
     "text": [
      "Epoch [4/10], Loss: 0.8430, Accuracy: 0.6151, F1 Score: 0.6065, Precision: 0.6097, Recall: 0.6151\n"
     ]
    },
    {
     "name": "stderr",
     "output_type": "stream",
     "text": [
      "Epoch 5/10: 100%|██████████████████████████████████████████████████████████| 46/46 [00:02<00:00, 17.72it/s, loss=0.721]\n"
     ]
    },
    {
     "name": "stdout",
     "output_type": "stream",
     "text": [
      "Epoch [5/10], Loss: 0.7661, Accuracy: 0.6581, F1 Score: 0.6533, Precision: 0.6559, Recall: 0.6581\n"
     ]
    },
    {
     "name": "stderr",
     "output_type": "stream",
     "text": [
      "Epoch 6/10: 100%|██████████████████████████████████████████████████████████| 46/46 [00:02<00:00, 18.99it/s, loss=0.709]\n"
     ]
    },
    {
     "name": "stdout",
     "output_type": "stream",
     "text": [
      "Epoch [6/10], Loss: 0.6848, Accuracy: 0.6974, F1 Score: 0.6945, Precision: 0.6951, Recall: 0.6974\n"
     ]
    },
    {
     "name": "stderr",
     "output_type": "stream",
     "text": [
      "Epoch 7/10: 100%|██████████████████████████████████████████████████████████| 46/46 [00:02<00:00, 17.06it/s, loss=0.605]\n"
     ]
    },
    {
     "name": "stdout",
     "output_type": "stream",
     "text": [
      "Epoch [7/10], Loss: 0.6142, Accuracy: 0.7301, F1 Score: 0.7281, Precision: 0.7283, Recall: 0.7301\n"
     ]
    },
    {
     "name": "stderr",
     "output_type": "stream",
     "text": [
      "Epoch 8/10: 100%|██████████████████████████████████████████████████████████| 46/46 [00:02<00:00, 17.88it/s, loss=0.501]\n"
     ]
    },
    {
     "name": "stdout",
     "output_type": "stream",
     "text": [
      "Epoch [8/10], Loss: 0.5441, Accuracy: 0.7634, F1 Score: 0.7622, Precision: 0.7624, Recall: 0.7634\n"
     ]
    },
    {
     "name": "stderr",
     "output_type": "stream",
     "text": [
      "Epoch 9/10: 100%|██████████████████████████████████████████████████████████| 46/46 [00:02<00:00, 17.88it/s, loss=0.428]\n"
     ]
    },
    {
     "name": "stdout",
     "output_type": "stream",
     "text": [
      "Epoch [9/10], Loss: 0.5115, Accuracy: 0.7764, F1 Score: 0.7753, Precision: 0.7750, Recall: 0.7764\n"
     ]
    },
    {
     "name": "stderr",
     "output_type": "stream",
     "text": [
      "Epoch 10/10: 100%|█████████████████████████████████████████████████████████| 46/46 [00:02<00:00, 18.40it/s, loss=0.399]\n"
     ]
    },
    {
     "name": "stdout",
     "output_type": "stream",
     "text": [
      "Epoch [10/10], Loss: 0.4894, Accuracy: 0.7862, F1 Score: 0.7855, Precision: 0.7851, Recall: 0.7862\n",
      "\n",
      "Accuracy for each epoch: [0.4660022538104564, 0.5463161208649098, 0.5768963140752725, 0.6151251935828934, 0.6581449170853202, 0.6973909383248893, 0.7301165089620232, 0.7634252397500851, 0.7764000333947122, 0.786172061265327]\n"
     ]
    }
   ],
   "source": [
    "# Check device\n",
    "device = torch.device(\"cuda\" if torch.cuda.is_available() else \"cpu\")\n",
    "\n",
    "# Initialize PSPNet with ResNet101 encoder\n",
    "num_classes = len(torch.unique(labels_train_tensor))  # Ensure this is correct\n",
    "model = smp.PSPNet(\n",
    "    encoder_name=\"resnet101\", \n",
    "    encoder_weights=\"imagenet\", \n",
    "    in_channels=3, \n",
    "    classes=num_classes  # Number of output classes\n",
    ").to(device)\n",
    "\n",
    "# Loss function and optimizer\n",
    "criterion = nn.CrossEntropyLoss()  # Use BCEWithLogitsLoss() if binary segmentation\n",
    "optimizer = torch.optim.Adam(model.parameters(), lr=0.0001)\n",
    "\n",
    "# Number of epochs\n",
    "num_epochs = 10\n",
    "\n",
    "# Initialize a list to store accuracy for each epoch\n",
    "accuracy_per_epoch_pspnet = []\n",
    "\n",
    "# Training loop\n",
    "for epoch in range(num_epochs):\n",
    "    model.train()\n",
    "    running_loss = 0.0\n",
    "    all_preds = []\n",
    "    all_labels = []\n",
    "\n",
    "    progress_bar = tqdm(train_loader, desc=f\"Epoch {epoch+1}/{num_epochs}\", leave=True)\n",
    "\n",
    "    for images, labels in progress_bar:\n",
    "        images, labels = images.to(device), labels.to(device)  # Move to GPU if available\n",
    "        optimizer.zero_grad()\n",
    "\n",
    "        # Forward pass\n",
    "        outputs = model(images)  # Shape: (batch, num_classes, height, width)\n",
    "\n",
    "        # Compute loss (CE expects labels as (batch, H, W), not one-hot)\n",
    "        loss = criterion(outputs, labels.long())  \n",
    "        loss.backward()\n",
    "        optimizer.step()\n",
    "\n",
    "        running_loss += loss.item()\n",
    "\n",
    "        # Get predictions (argmax over classes)\n",
    "        preds = torch.argmax(outputs, dim=1)  # Shape: (batch, H, W)\n",
    "        all_preds.append(preds.cpu().numpy())\n",
    "        all_labels.append(labels.cpu().numpy())\n",
    "\n",
    "        # Update progress bar\n",
    "        progress_bar.set_postfix(loss=loss.item())\n",
    "\n",
    "    # Compute metrics\n",
    "    all_preds = np.concatenate(all_preds, axis=0).flatten()\n",
    "    all_labels = np.concatenate(all_labels, axis=0).flatten()\n",
    "\n",
    "    accuracy = (all_preds == all_labels).mean()\n",
    "    f1 = f1_score(all_labels, all_preds, average='weighted')\n",
    "    precision = precision_score(all_labels, all_preds, average='weighted')\n",
    "    recall = recall_score(all_labels, all_preds, average='weighted')\n",
    "\n",
    "    # Store accuracy for this epoch\n",
    "    accuracy_per_epoch_pspnet.append(accuracy)\n",
    "\n",
    "    print(f\"Epoch [{epoch+1}/{num_epochs}], Loss: {running_loss/len(train_loader):.4f}, \"\n",
    "          f\"Accuracy: {accuracy:.4f}, F1 Score: {f1:.4f}, Precision: {precision:.4f}, Recall: {recall:.4f}\")\n",
    "\n",
    "# After training, you can print the accuracies for all epochs\n",
    "print(f\"\\nAccuracy for each epoch: {accuracy_per_epoch_pspnet}\")\n"
   ]
  },
  {
   "cell_type": "code",
   "execution_count": 27,
   "id": "c7e65041-343e-406d-84a4-cb0f6c62766a",
   "metadata": {},
   "outputs": [
    {
     "name": "stderr",
     "output_type": "stream",
     "text": [
      "Validation: 100%|███████████████████████████████████████████████████████████████████| 12/12 [00:00<00:00, 26.59batch/s]\n"
     ]
    },
    {
     "name": "stdout",
     "output_type": "stream",
     "text": [
      "Validation Loss: 0.5110, Accuracy: 0.7750, F1 Score: 0.7720, Precision: 0.7755, Recall: 0.7750, IoU: 0.6325\n"
     ]
    },
    {
     "data": {
      "text/plain": [
       "(0.5110130459070206,\n",
       " 0.7750207652216372,\n",
       " 0.7720119945911434,\n",
       " 0.7755480414393475,\n",
       " 0.7750207652216372,\n",
       " 0.632486476542045)"
      ]
     },
     "execution_count": 27,
     "metadata": {},
     "output_type": "execute_result"
    }
   ],
   "source": [
    " # Evaluate on the validation dataset\n",
    "evaluate_model(model, test_loader, criterion, device,num_classes)"
   ]
  },
  {
   "cell_type": "markdown",
   "id": "618ed982-4dff-4606-ab9d-619c31cab3f5",
   "metadata": {},
   "source": [
    "PSPNet has achieved better performance compared to the baseline model, achieving the following score:\n",
    "\n",
    "Accuracy: 77.5%\n",
    "\n",
    "F1: 77.2%\n",
    "\n",
    "IoU: 63.25%\n",
    "\n",
    "The perfomance has increased by a great amount, especially IoU, jumping up to 20%"
   ]
  },
  {
   "cell_type": "markdown",
   "id": "5c3b5521-944c-4b2a-88ec-1b5f739342ac",
   "metadata": {},
   "source": [
    "## U-net \n",
    "U-Net is a deep learning model designed for semantic segmentation, particularly for medical image analysis. It was introduced by Olaf Ronneberger et al. in 2015 and is known for its U-shaped architecture that enables precise pixel-wise classification. U-Net is a powerful yet efficient model for semantic segmentation, particularly when working with limited labeled data. It is widely used in medical imaging, remote sensing, and autonomous systems.\n",
    "\n",
    "U-Shaped Architecture → Symmetric encoder-decoder structure.\n",
    "\n",
    "Skip Connections → Helps retain spatial information lost in down-sampling.\n",
    "\n",
    "Fully Convolutional → No fully connected layers, allowing variable input sizes.\n",
    "\n",
    "Efficient Training → Works well on small datasets using data augmentation.\n",
    "\n",
    "Pixel-Wise Classification → Produces high-resolution segmentation maps."
   ]
  },
  {
   "cell_type": "code",
   "execution_count": 24,
   "id": "84181a17-4483-4ed9-aa96-48bedb014892",
   "metadata": {},
   "outputs": [
    {
     "name": "stderr",
     "output_type": "stream",
     "text": [
      "Epoch 1/10: 100%|██████████████████████████████████████████████████████████| 46/46 [00:08<00:00,  5.54it/s, loss=0.873]\n"
     ]
    },
    {
     "name": "stdout",
     "output_type": "stream",
     "text": [
      "Epoch [1/10], Loss: 1.0145, Accuracy: 0.4934, F1 Score: 0.4862, Precision: 0.4831, Recall: 0.4934\n"
     ]
    },
    {
     "name": "stderr",
     "output_type": "stream",
     "text": [
      "Epoch 2/10: 100%|██████████████████████████████████████████████████████████| 46/46 [00:07<00:00,  6.25it/s, loss=0.657]\n"
     ]
    },
    {
     "name": "stdout",
     "output_type": "stream",
     "text": [
      "Epoch [2/10], Loss: 0.7357, Accuracy: 0.6748, F1 Score: 0.6686, Precision: 0.6669, Recall: 0.6748\n"
     ]
    },
    {
     "name": "stderr",
     "output_type": "stream",
     "text": [
      "Epoch 3/10: 100%|██████████████████████████████████████████████████████████| 46/46 [00:07<00:00,  6.36it/s, loss=0.518]\n"
     ]
    },
    {
     "name": "stdout",
     "output_type": "stream",
     "text": [
      "Epoch [3/10], Loss: 0.5776, Accuracy: 0.7567, F1 Score: 0.7532, Precision: 0.7535, Recall: 0.7567\n"
     ]
    },
    {
     "name": "stderr",
     "output_type": "stream",
     "text": [
      "Epoch 4/10: 100%|██████████████████████████████████████████████████████████| 46/46 [00:07<00:00,  6.41it/s, loss=0.393]\n"
     ]
    },
    {
     "name": "stdout",
     "output_type": "stream",
     "text": [
      "Epoch [4/10], Loss: 0.4403, Accuracy: 0.8298, F1 Score: 0.8284, Precision: 0.8292, Recall: 0.8298\n"
     ]
    },
    {
     "name": "stderr",
     "output_type": "stream",
     "text": [
      "Epoch 5/10: 100%|██████████████████████████████████████████████████████████| 46/46 [00:07<00:00,  6.42it/s, loss=0.477]\n"
     ]
    },
    {
     "name": "stdout",
     "output_type": "stream",
     "text": [
      "Epoch [5/10], Loss: 0.3771, Accuracy: 0.8550, F1 Score: 0.8540, Precision: 0.8548, Recall: 0.8550\n"
     ]
    },
    {
     "name": "stderr",
     "output_type": "stream",
     "text": [
      "Epoch 6/10: 100%|██████████████████████████████████████████████████████████| 46/46 [00:07<00:00,  6.35it/s, loss=0.258]\n"
     ]
    },
    {
     "name": "stdout",
     "output_type": "stream",
     "text": [
      "Epoch [6/10], Loss: 0.3163, Accuracy: 0.8784, F1 Score: 0.8778, Precision: 0.8782, Recall: 0.8784\n"
     ]
    },
    {
     "name": "stderr",
     "output_type": "stream",
     "text": [
      "Epoch 7/10: 100%|██████████████████████████████████████████████████████████| 46/46 [00:07<00:00,  6.30it/s, loss=0.261]\n"
     ]
    },
    {
     "name": "stdout",
     "output_type": "stream",
     "text": [
      "Epoch [7/10], Loss: 0.2712, Accuracy: 0.8965, F1 Score: 0.8960, Precision: 0.8964, Recall: 0.8965\n"
     ]
    },
    {
     "name": "stderr",
     "output_type": "stream",
     "text": [
      "Epoch 8/10: 100%|██████████████████████████████████████████████████████████| 46/46 [00:07<00:00,  6.27it/s, loss=0.248]\n"
     ]
    },
    {
     "name": "stdout",
     "output_type": "stream",
     "text": [
      "Epoch [8/10], Loss: 0.2502, Accuracy: 0.9027, F1 Score: 0.9023, Precision: 0.9026, Recall: 0.9027\n"
     ]
    },
    {
     "name": "stderr",
     "output_type": "stream",
     "text": [
      "Epoch 9/10: 100%|██████████████████████████████████████████████████████████| 46/46 [00:07<00:00,  6.42it/s, loss=0.202]\n"
     ]
    },
    {
     "name": "stdout",
     "output_type": "stream",
     "text": [
      "Epoch [9/10], Loss: 0.2216, Accuracy: 0.9147, F1 Score: 0.9145, Precision: 0.9146, Recall: 0.9147\n"
     ]
    },
    {
     "name": "stderr",
     "output_type": "stream",
     "text": [
      "Epoch 10/10: 100%|█████████████████████████████████████████████████████████| 46/46 [00:07<00:00,  6.41it/s, loss=0.161]\n"
     ]
    },
    {
     "name": "stdout",
     "output_type": "stream",
     "text": [
      "Epoch [10/10], Loss: 0.1946, Accuracy: 0.9252, F1 Score: 0.9249, Precision: 0.9251, Recall: 0.9252\n",
      "\n",
      "Accuracy for each epoch: [0.4933918217547258, 0.6747542129225562, 0.7566816033719346, 0.8298413850955807, 0.8549743153418767, 0.8783813809179155, 0.8965177198196952, 0.9027096283208447, 0.9147175053484758, 0.9251550991463726]\n"
     ]
    }
   ],
   "source": [
    "# Check device\n",
    "device = torch.device(\"cuda\" if torch.cuda.is_available() else \"cpu\")\n",
    "\n",
    "# Initialize U-Net with ResNet101 encoder\n",
    "num_classes = len(torch.unique(labels_train_tensor))  # Ensure this is correct\n",
    "model = smp.Unet(\n",
    "    encoder_name=\"resnet101\", \n",
    "    encoder_weights=\"imagenet\", \n",
    "    in_channels=3, \n",
    "    classes=num_classes  # Number of output classes\n",
    ").to(device)\n",
    "\n",
    "# Loss function and optimizer\n",
    "criterion = nn.CrossEntropyLoss()  # Use BCEWithLogitsLoss() if binary segmentation\n",
    "optimizer = torch.optim.Adam(model.parameters(), lr=0.0001)\n",
    "\n",
    "# Number of epochs\n",
    "num_epochs = 10\n",
    "\n",
    "# Initialize a list to store accuracy for each epoch\n",
    "accuracy_per_epoch_unet = []\n",
    "\n",
    "# Training loop\n",
    "for epoch in range(num_epochs):\n",
    "    model.train()\n",
    "    running_loss = 0.0\n",
    "    all_preds = []\n",
    "    all_labels = []\n",
    "\n",
    "    progress_bar = tqdm(train_loader, desc=f\"Epoch {epoch+1}/{num_epochs}\", leave=True)\n",
    "\n",
    "    for images, labels in progress_bar:\n",
    "        images, labels = images.to(device), labels.to(device)  # Move to GPU if available\n",
    "        optimizer.zero_grad()\n",
    "\n",
    "        # Forward pass\n",
    "        outputs = model(images)  # Shape: (batch, num_classes, height, width)\n",
    "\n",
    "        # Compute loss (CE expects labels as (batch, H, W), not one-hot)\n",
    "        loss = criterion(outputs, labels.long())  \n",
    "        loss.backward()\n",
    "        optimizer.step()\n",
    "\n",
    "        running_loss += loss.item()\n",
    "\n",
    "        # Get predictions (argmax over classes)\n",
    "        preds = torch.argmax(outputs, dim=1)  # Shape: (batch, H, W)\n",
    "        all_preds.append(preds.cpu().numpy())\n",
    "        all_labels.append(labels.cpu().numpy())\n",
    "\n",
    "        # Update progress bar\n",
    "        progress_bar.set_postfix(loss=loss.item())\n",
    "\n",
    "    # Compute metrics\n",
    "    all_preds = np.concatenate(all_preds, axis=0).flatten()\n",
    "    all_labels = np.concatenate(all_labels, axis=0).flatten()\n",
    "\n",
    "    accuracy = (all_preds == all_labels).mean()\n",
    "    f1 = f1_score(all_labels, all_preds, average='weighted')\n",
    "    precision = precision_score(all_labels, all_preds, average='weighted')\n",
    "    recall = recall_score(all_labels, all_preds, average='weighted')\n",
    "\n",
    "    # Store accuracy for this epoch\n",
    "    accuracy_per_epoch_unet.append(accuracy)\n",
    "\n",
    "    print(f\"Epoch [{epoch+1}/{num_epochs}], Loss: {running_loss/len(train_loader):.4f}, \"\n",
    "          f\"Accuracy: {accuracy:.4f}, F1 Score: {f1:.4f}, Precision: {precision:.4f}, Recall: {recall:.4f}\")\n",
    "\n",
    "# After training, you can print the accuracies for all epochs\n",
    "print(f\"\\nAccuracy for each epoch: {accuracy_per_epoch_unet}\")\n"
   ]
  },
  {
   "cell_type": "code",
   "execution_count": 25,
   "id": "a3888022-1e6c-4180-8477-f1998a06dedb",
   "metadata": {
    "scrolled": true
   },
   "outputs": [
    {
     "name": "stderr",
     "output_type": "stream",
     "text": [
      "Validation: 100%|███████████████████████████████████████████████████████████████████| 12/12 [00:00<00:00, 12.14batch/s]\n"
     ]
    },
    {
     "name": "stdout",
     "output_type": "stream",
     "text": [
      "Validation Loss: 0.2330, Accuracy: 0.9071, F1 Score: 0.9063, Precision: 0.9076, Recall: 0.9071, IoU: 0.8295\n"
     ]
    },
    {
     "data": {
      "text/plain": [
       "(0.23303092395265898,\n",
       " 0.9070583841075068,\n",
       " 0.9062790955431985,\n",
       " 0.9075957084519297,\n",
       " 0.9070583841075068,\n",
       " 0.8294973969133668)"
      ]
     },
     "execution_count": 25,
     "metadata": {},
     "output_type": "execute_result"
    }
   ],
   "source": [
    " # Evaluate on the validation dataset\n",
    "evaluate_model(model, test_loader, criterion, device,num_classes)"
   ]
  },
  {
   "cell_type": "markdown",
   "id": "9258712f-011a-4cf5-9b3f-022d8c0a129c",
   "metadata": {},
   "source": [
    "U-Net has achieved the best score so far, close to 90% for everything except IoU, which was at 83%."
   ]
  },
  {
   "cell_type": "markdown",
   "id": "1ffe7e8a",
   "metadata": {},
   "source": [
    "## DeepLabV3+\n",
    "\n",
    "DeepLabV3+ is a state-of-the-art deep learning architecture specifically designed for semantic segmentation, which involves assigning a class label to every pixel in an image. It builds on the DeepLabV3 architecture by adding a decoder module to improve the segmentation results, especially along object boundaries.\n",
    "\n",
    "Components of the Model:\n",
    "\n",
    "1. Backbone:\n",
    "Extracts hierarchical features from the input image. This is the ResNet101 part of the model.\n",
    "Outputs feature maps at various scales and encodes spatial and contextual information.\n",
    "2. ASPP (Atrous Spatial Pyramid Pooling):\n",
    "Captures multi-scale context by applying dilated convolutions at different rates.\n",
    "Improves the ability to recognize objects at different scales.\n",
    "3. Decoder:\n",
    "Upsamples the output of the ASPP to the original image resolution.\n",
    "Refines the segmentation map for better accuracy and localization of boundaries.\n",
    "4. Model Forward Pass:\n",
    "Input goes through the backbone (ResNet101) to extract features.\n",
    "Features are passed to the ASPP module for multi-scale context extraction.\n",
    "The decoder upsamples the processed features back to the input size and outputs the segmentation map.\n",
    "5. Training Loop:\n",
    "The model is trained using a CrossEntropyLoss function, which is appropriate for multi-class classification tasks like semantic segmentation.\n",
    "An Adam optimizer is used for gradient updates.\n",
    "During each epoch:\n",
    "The model processes batches of images.\n",
    "Predictions are made, and the loss is computed based on the difference between predictions and ground truth labels.\n",
    "The optimizer updates the model's weights to minimize the loss."
   ]
  },
  {
   "cell_type": "code",
   "execution_count": 31,
   "id": "5335a671-b229-4d34-994d-8c4e2effb1bc",
   "metadata": {},
   "outputs": [
    {
     "name": "stderr",
     "output_type": "stream",
     "text": [
      "C:\\Users\\mathu\\anaconda3\\Lib\\site-packages\\torchvision\\models\\_utils.py:208: UserWarning: The parameter 'pretrained' is deprecated since 0.13 and may be removed in the future, please use 'weights' instead.\n",
      "  warnings.warn(\n",
      "C:\\Users\\mathu\\anaconda3\\Lib\\site-packages\\torchvision\\models\\_utils.py:223: UserWarning: Arguments other than a weight enum or `None` for 'weights' are deprecated since 0.13 and may be removed in the future. The current behavior is equivalent to passing `weights=DeepLabV3_ResNet101_Weights.COCO_WITH_VOC_LABELS_V1`. You can also use `weights=DeepLabV3_ResNet101_Weights.DEFAULT` to get the most up-to-date weights.\n",
      "  warnings.warn(msg)\n"
     ]
    },
    {
     "name": "stdout",
     "output_type": "stream",
     "text": [
      "torch.Size([16, 3, 128, 128])\n"
     ]
    }
   ],
   "source": [
    "class DeepLabV3Plus(nn.Module):\n",
    "    def __init__(self, num_classes):\n",
    "        super(DeepLabV3Plus, self).__init__()\n",
    "\n",
    "        # Load pretrained DeepLabV3+ with ResNet101 backbone\n",
    "        self.model = models.segmentation.deeplabv3_resnet101(pretrained=True, output_stride=8)\n",
    "\n",
    "        # Modify the classifier (final layer) to match num_classes\n",
    "        in_channels = self.model.classifier[4].in_channels  # Get input channels of last layer\n",
    "        self.model.classifier[4] = nn.Conv2d(in_channels, num_classes, kernel_size=1)\n",
    "\n",
    "    def forward(self, x):\n",
    "        return self.model(x)['out']  # Use built-in forward pass\n",
    "\n",
    "# Initialize the model\n",
    "num_classes = len(torch.unique(labels_train_tensor))  # Set this to the number of classes\n",
    "model = DeepLabV3Plus(num_classes=num_classes)\n",
    "\n",
    "# Print the model architecture\n",
    "#print(model)\n",
    "\n",
    "# Example forward pass with a random tensor (batch_size=16, channels=3, height=128, width=128)\n",
    "inputs = torch.randn(16, 3, 128, 128)  # Example input\n",
    "outputs = model(inputs)\n",
    "print(outputs.size())  # Should be (batch_size, num_classes, height, width)\n"
   ]
  },
  {
   "cell_type": "code",
   "execution_count": 32,
   "id": "542a4cd4",
   "metadata": {},
   "outputs": [
    {
     "name": "stderr",
     "output_type": "stream",
     "text": [
      "Epoch 1/10: 100%|██████████████████████████████████████████████████████████| 46/46 [00:15<00:00,  3.02it/s, loss=0.746]\n"
     ]
    },
    {
     "name": "stdout",
     "output_type": "stream",
     "text": [
      "Epoch [1/10], Loss: 0.9059, Accuracy: 0.5695, F1 Score: 0.5781, Precision: 0.6144, Recall: 0.5695\n"
     ]
    },
    {
     "name": "stderr",
     "output_type": "stream",
     "text": [
      "Epoch 2/10: 100%|██████████████████████████████████████████████████████████| 46/46 [00:13<00:00,  3.48it/s, loss=0.431]\n"
     ]
    },
    {
     "name": "stdout",
     "output_type": "stream",
     "text": [
      "Epoch [2/10], Loss: 0.5225, Accuracy: 0.7926, F1 Score: 0.7911, Precision: 0.7918, Recall: 0.7926\n"
     ]
    },
    {
     "name": "stderr",
     "output_type": "stream",
     "text": [
      "Epoch 3/10: 100%|██████████████████████████████████████████████████████████| 46/46 [00:12<00:00,  3.57it/s, loss=0.285]\n"
     ]
    },
    {
     "name": "stdout",
     "output_type": "stream",
     "text": [
      "Epoch [3/10], Loss: 0.3527, Accuracy: 0.8694, F1 Score: 0.8688, Precision: 0.8692, Recall: 0.8694\n"
     ]
    },
    {
     "name": "stderr",
     "output_type": "stream",
     "text": [
      "Epoch 4/10: 100%|██████████████████████████████████████████████████████████| 46/46 [00:12<00:00,  3.59it/s, loss=0.257]\n"
     ]
    },
    {
     "name": "stdout",
     "output_type": "stream",
     "text": [
      "Epoch [4/10], Loss: 0.2775, Accuracy: 0.8999, F1 Score: 0.8996, Precision: 0.8999, Recall: 0.8999\n"
     ]
    },
    {
     "name": "stderr",
     "output_type": "stream",
     "text": [
      "Epoch 5/10: 100%|██████████████████████████████████████████████████████████| 46/46 [00:12<00:00,  3.60it/s, loss=0.207]\n"
     ]
    },
    {
     "name": "stdout",
     "output_type": "stream",
     "text": [
      "Epoch [5/10], Loss: 0.2435, Accuracy: 0.9120, F1 Score: 0.9117, Precision: 0.9118, Recall: 0.9120\n"
     ]
    },
    {
     "name": "stderr",
     "output_type": "stream",
     "text": [
      "Epoch 6/10: 100%|██████████████████████████████████████████████████████████| 46/46 [00:12<00:00,  3.55it/s, loss=0.189]\n"
     ]
    },
    {
     "name": "stdout",
     "output_type": "stream",
     "text": [
      "Epoch [6/10], Loss: 0.2210, Accuracy: 0.9188, F1 Score: 0.9186, Precision: 0.9187, Recall: 0.9188\n"
     ]
    },
    {
     "name": "stderr",
     "output_type": "stream",
     "text": [
      "Epoch 7/10: 100%|██████████████████████████████████████████████████████████| 46/46 [00:12<00:00,  3.61it/s, loss=0.204]\n"
     ]
    },
    {
     "name": "stdout",
     "output_type": "stream",
     "text": [
      "Epoch [7/10], Loss: 0.1914, Accuracy: 0.9313, F1 Score: 0.9312, Precision: 0.9312, Recall: 0.9313\n"
     ]
    },
    {
     "name": "stderr",
     "output_type": "stream",
     "text": [
      "Epoch 8/10: 100%|██████████████████████████████████████████████████████████| 46/46 [00:13<00:00,  3.53it/s, loss=0.157]\n"
     ]
    },
    {
     "name": "stdout",
     "output_type": "stream",
     "text": [
      "Epoch [8/10], Loss: 0.1723, Accuracy: 0.9382, F1 Score: 0.9381, Precision: 0.9382, Recall: 0.9382\n"
     ]
    },
    {
     "name": "stderr",
     "output_type": "stream",
     "text": [
      "Epoch 9/10: 100%|██████████████████████████████████████████████████████████| 46/46 [00:12<00:00,  3.58it/s, loss=0.203]\n"
     ]
    },
    {
     "name": "stdout",
     "output_type": "stream",
     "text": [
      "Epoch [9/10], Loss: 0.1550, Accuracy: 0.9452, F1 Score: 0.9451, Precision: 0.9451, Recall: 0.9452\n"
     ]
    },
    {
     "name": "stderr",
     "output_type": "stream",
     "text": [
      "Epoch 10/10: 100%|█████████████████████████████████████████████████████████| 46/46 [00:12<00:00,  3.62it/s, loss=0.133]\n"
     ]
    },
    {
     "name": "stdout",
     "output_type": "stream",
     "text": [
      "Epoch [10/10], Loss: 0.1339, Accuracy: 0.9530, F1 Score: 0.9529, Precision: 0.9529, Recall: 0.9530\n",
      "\n",
      "Accuracy for each epoch: [0.5695409956680006, 0.7925800042841025, 0.8694255943194397, 0.8999235480617762, 0.9119508831637432, 0.9188151762336086, 0.9312670964960831, 0.9382196161337705, 0.9451741314713896, 0.9529946142711172]\n"
     ]
    }
   ],
   "source": [
    "num_classes = len(torch.unique(labels_train_tensor))\n",
    "\n",
    "num_epochs = 10  # Set the number of epochs\n",
    "device = torch.device(\"cuda\" if torch.cuda.is_available() else \"cpu\")\n",
    "model = DeepLabV3Plus(num_classes=num_classes).to(device)\n",
    "\n",
    "accuracy_per_epoch_deeplab = []\n",
    "\n",
    "# Loss function and optimizer\n",
    "criterion = nn.CrossEntropyLoss()\n",
    "optimizer = torch.optim.Adam(model.parameters(), lr=0.0001)\n",
    "\n",
    "# Training loop\n",
    "for epoch in range(num_epochs):\n",
    "    model.train()\n",
    "    running_loss = 0.0\n",
    "    all_preds = []\n",
    "    all_labels = []\n",
    "\n",
    "    progress_bar = tqdm(train_loader, desc=f\"Epoch {epoch+1}/{num_epochs}\", leave=True)  # Progress bar\n",
    "\n",
    "    for images, labels in progress_bar:\n",
    "        images, labels = images.to(device), labels.to(device)\n",
    "        optimizer.zero_grad()\n",
    "\n",
    "        # Forward pass\n",
    "        outputs = model(images)\n",
    "\n",
    "        # Compute loss\n",
    "        loss = criterion(outputs, labels)\n",
    "        loss.backward()\n",
    "        optimizer.step()\n",
    "\n",
    "        running_loss += loss.item()\n",
    "\n",
    "        # Get the predictions (class with highest score)\n",
    "        preds = torch.argmax(outputs, dim=1)\n",
    "        all_preds.append(preds.cpu().numpy())\n",
    "        all_labels.append(labels.cpu().numpy())\n",
    "\n",
    "        # Update progress bar with current loss\n",
    "        progress_bar.set_postfix(loss=loss.item())\n",
    "\n",
    "    # Compute metrics after each epoch\n",
    "    all_preds = np.concatenate(all_preds, axis=0)\n",
    "    all_labels = np.concatenate(all_labels, axis=0)\n",
    "\n",
    "    accuracy = (all_preds == all_labels).mean()\n",
    "    f1 = f1_score(all_labels.flatten(), all_preds.flatten(), average='weighted')\n",
    "    precision = precision_score(all_labels.flatten(), all_preds.flatten(), average='weighted')\n",
    "    recall = recall_score(all_labels.flatten(), all_preds.flatten(), average='weighted')\n",
    "\n",
    "    # Store accuracy for this epoch\n",
    "    accuracy_per_epoch_deeplab.append(accuracy)\n",
    "\n",
    "    print(f\"Epoch [{epoch+1}/{num_epochs}], Loss: {running_loss/len(train_loader):.4f}, \"\n",
    "          f\"Accuracy: {accuracy:.4f}, F1 Score: {f1:.4f}, Precision: {precision:.4f}, Recall: {recall:.4f}\")\n",
    "\n",
    "# After training, you can print the accuracies for all epochs\n",
    "print(f\"\\nAccuracy for each epoch: {accuracy_per_epoch_deeplab}\")\n"
   ]
  },
  {
   "cell_type": "code",
   "execution_count": 33,
   "id": "da2607e7",
   "metadata": {},
   "outputs": [
    {
     "name": "stderr",
     "output_type": "stream",
     "text": [
      "Validation: 100%|███████████████████████████████████████████████████████████████████| 12/12 [00:01<00:00,  8.91batch/s]\n"
     ]
    },
    {
     "name": "stdout",
     "output_type": "stream",
     "text": [
      "Validation Loss: 0.1954, Accuracy: 0.9261, F1 Score: 0.9259, Precision: 0.9262, Recall: 0.9261, IoU: 0.8624\n"
     ]
    },
    {
     "data": {
      "text/plain": [
       "(0.19538290922840437,\n",
       " 0.9261053334111753,\n",
       " 0.9258686910007115,\n",
       " 0.9261882590679278,\n",
       " 0.9261053334111753,\n",
       " 0.8623812302249934)"
      ]
     },
     "execution_count": 33,
     "metadata": {},
     "output_type": "execute_result"
    }
   ],
   "source": [
    " # Evaluate on the validation dataset\n",
    "evaluate_model(model, test_loader, criterion, device,num_classes)"
   ]
  },
  {
   "cell_type": "markdown",
   "id": "3485a633-b3b5-4f6c-b156-7d498bb7802d",
   "metadata": {},
   "source": [
    "DeepLabV3+ has performed marginally better than U-Net, with a 2% increase in all metrics."
   ]
  },
  {
   "cell_type": "markdown",
   "id": "70415340-e334-426a-bda4-a36eb7f5f2ce",
   "metadata": {},
   "source": [
    "## Segformer\n",
    "SegFormer (Segmenter with Transformer) is a semantic segmentation model that combines the strengths of Transformers and CNNs, introduced by Xie et al. in 2021. It is known for being lightweight, efficient, and highly accurate while requiring no complex post-processing like dilated convolutions or hand-designed decoder structures.\n",
    "\n",
    " Hierarchical Transformer Encoder → Captures multi-scale features.\n",
    " \n",
    " Lightweight MLP Decoder → Simple yet effective segmentation head.\n",
    " \n",
    " No Positional Encoding Needed → Unlike ViTs, it learns spatial relationships directly.\n",
    " \n",
    " Efficient & Fast → Suitable for real-time applications.\n",
    " \n",
    " State-of-the-Art Performance → Competes with DeepLabV3+, U-Net, etc."
   ]
  },
  {
   "cell_type": "code",
   "execution_count": 38,
   "id": "7a710942-d227-4db9-a74e-0497dfb87299",
   "metadata": {
    "scrolled": true
   },
   "outputs": [
    {
     "name": "stderr",
     "output_type": "stream",
     "text": [
      "Epoch 1/10: 100%|██████████████████████████████████████████████████████████| 46/46 [00:07<00:00,  6.43it/s, loss=0.839]\n"
     ]
    },
    {
     "name": "stdout",
     "output_type": "stream",
     "text": [
      "Epoch [1/10], Loss: 1.0471, Accuracy: 0.4957, F1 Score: 0.5023, Precision: 0.5154, Recall: 0.4957\n"
     ]
    },
    {
     "name": "stderr",
     "output_type": "stream",
     "text": [
      "Epoch 2/10: 100%|██████████████████████████████████████████████████████████| 46/46 [00:06<00:00,  6.58it/s, loss=0.473]\n"
     ]
    },
    {
     "name": "stdout",
     "output_type": "stream",
     "text": [
      "Epoch [2/10], Loss: 0.6323, Accuracy: 0.7217, F1 Score: 0.7178, Precision: 0.7174, Recall: 0.7217\n"
     ]
    },
    {
     "name": "stderr",
     "output_type": "stream",
     "text": [
      "Epoch 3/10: 100%|██████████████████████████████████████████████████████████| 46/46 [00:06<00:00,  6.73it/s, loss=0.424]\n"
     ]
    },
    {
     "name": "stdout",
     "output_type": "stream",
     "text": [
      "Epoch [3/10], Loss: 0.4700, Accuracy: 0.7950, F1 Score: 0.7931, Precision: 0.7933, Recall: 0.7950\n"
     ]
    },
    {
     "name": "stderr",
     "output_type": "stream",
     "text": [
      "Epoch 4/10: 100%|██████████████████████████████████████████████████████████| 46/46 [00:06<00:00,  6.63it/s, loss=0.395]\n"
     ]
    },
    {
     "name": "stdout",
     "output_type": "stream",
     "text": [
      "Epoch [4/10], Loss: 0.3860, Accuracy: 0.8343, F1 Score: 0.8333, Precision: 0.8332, Recall: 0.8343\n"
     ]
    },
    {
     "name": "stderr",
     "output_type": "stream",
     "text": [
      "Epoch 5/10: 100%|███████████████████████████████████████████████████████████| 46/46 [00:07<00:00,  6.45it/s, loss=0.29]\n"
     ]
    },
    {
     "name": "stdout",
     "output_type": "stream",
     "text": [
      "Epoch [5/10], Loss: 0.3303, Accuracy: 0.8589, F1 Score: 0.8583, Precision: 0.8584, Recall: 0.8589\n"
     ]
    },
    {
     "name": "stderr",
     "output_type": "stream",
     "text": [
      "Epoch 6/10: 100%|██████████████████████████████████████████████████████████| 46/46 [00:07<00:00,  6.56it/s, loss=0.307]\n"
     ]
    },
    {
     "name": "stdout",
     "output_type": "stream",
     "text": [
      "Epoch [6/10], Loss: 0.2963, Accuracy: 0.8744, F1 Score: 0.8738, Precision: 0.8740, Recall: 0.8744\n"
     ]
    },
    {
     "name": "stderr",
     "output_type": "stream",
     "text": [
      "Epoch 7/10: 100%|██████████████████████████████████████████████████████████| 46/46 [00:07<00:00,  6.43it/s, loss=0.239]\n"
     ]
    },
    {
     "name": "stdout",
     "output_type": "stream",
     "text": [
      "Epoch [7/10], Loss: 0.2595, Accuracy: 0.8897, F1 Score: 0.8894, Precision: 0.8895, Recall: 0.8897\n"
     ]
    },
    {
     "name": "stderr",
     "output_type": "stream",
     "text": [
      "Epoch 8/10: 100%|██████████████████████████████████████████████████████████| 46/46 [00:07<00:00,  6.57it/s, loss=0.238]\n"
     ]
    },
    {
     "name": "stdout",
     "output_type": "stream",
     "text": [
      "Epoch [8/10], Loss: 0.2534, Accuracy: 0.8929, F1 Score: 0.8927, Precision: 0.8927, Recall: 0.8929\n"
     ]
    },
    {
     "name": "stderr",
     "output_type": "stream",
     "text": [
      "Epoch 9/10: 100%|██████████████████████████████████████████████████████████| 46/46 [00:07<00:00,  6.48it/s, loss=0.186]\n"
     ]
    },
    {
     "name": "stdout",
     "output_type": "stream",
     "text": [
      "Epoch [9/10], Loss: 0.2200, Accuracy: 0.9070, F1 Score: 0.9067, Precision: 0.9068, Recall: 0.9070\n"
     ]
    },
    {
     "name": "stderr",
     "output_type": "stream",
     "text": [
      "Epoch 10/10: 100%|█████████████████████████████████████████████████████████| 46/46 [00:07<00:00,  6.45it/s, loss=0.202]\n"
     ]
    },
    {
     "name": "stdout",
     "output_type": "stream",
     "text": [
      "Epoch [10/10], Loss: 0.2076, Accuracy: 0.9126, F1 Score: 0.9124, Precision: 0.9124, Recall: 0.9126\n"
     ]
    },
    {
     "ename": "NameError",
     "evalue": "name 'accuracy_per_epoch_deeplab_segformer' is not defined",
     "output_type": "error",
     "traceback": [
      "\u001b[1;31m---------------------------------------------------------------------------\u001b[0m",
      "\u001b[1;31mNameError\u001b[0m                                 Traceback (most recent call last)",
      "Cell \u001b[1;32mIn[38], line 76\u001b[0m\n\u001b[0;32m     72\u001b[0m     \u001b[38;5;28mprint\u001b[39m(\u001b[38;5;124mf\u001b[39m\u001b[38;5;124m\"\u001b[39m\u001b[38;5;124mEpoch [\u001b[39m\u001b[38;5;132;01m{\u001b[39;00mepoch\u001b[38;5;241m+\u001b[39m\u001b[38;5;241m1\u001b[39m\u001b[38;5;132;01m}\u001b[39;00m\u001b[38;5;124m/\u001b[39m\u001b[38;5;132;01m{\u001b[39;00mnum_epochs\u001b[38;5;132;01m}\u001b[39;00m\u001b[38;5;124m], Loss: \u001b[39m\u001b[38;5;132;01m{\u001b[39;00mrunning_loss\u001b[38;5;241m/\u001b[39m\u001b[38;5;28mlen\u001b[39m(train_loader)\u001b[38;5;132;01m:\u001b[39;00m\u001b[38;5;124m.4f\u001b[39m\u001b[38;5;132;01m}\u001b[39;00m\u001b[38;5;124m, \u001b[39m\u001b[38;5;124m\"\u001b[39m\n\u001b[0;32m     73\u001b[0m           \u001b[38;5;124mf\u001b[39m\u001b[38;5;124m\"\u001b[39m\u001b[38;5;124mAccuracy: \u001b[39m\u001b[38;5;132;01m{\u001b[39;00maccuracy\u001b[38;5;132;01m:\u001b[39;00m\u001b[38;5;124m.4f\u001b[39m\u001b[38;5;132;01m}\u001b[39;00m\u001b[38;5;124m, F1 Score: \u001b[39m\u001b[38;5;132;01m{\u001b[39;00mf1\u001b[38;5;132;01m:\u001b[39;00m\u001b[38;5;124m.4f\u001b[39m\u001b[38;5;132;01m}\u001b[39;00m\u001b[38;5;124m, Precision: \u001b[39m\u001b[38;5;132;01m{\u001b[39;00mprecision\u001b[38;5;132;01m:\u001b[39;00m\u001b[38;5;124m.4f\u001b[39m\u001b[38;5;132;01m}\u001b[39;00m\u001b[38;5;124m, Recall: \u001b[39m\u001b[38;5;132;01m{\u001b[39;00mrecall\u001b[38;5;132;01m:\u001b[39;00m\u001b[38;5;124m.4f\u001b[39m\u001b[38;5;132;01m}\u001b[39;00m\u001b[38;5;124m\"\u001b[39m)\n\u001b[0;32m     75\u001b[0m \u001b[38;5;66;03m# After training, you can print the accuracies for all epochs\u001b[39;00m\n\u001b[1;32m---> 76\u001b[0m \u001b[38;5;28mprint\u001b[39m(\u001b[38;5;124mf\u001b[39m\u001b[38;5;124m\"\u001b[39m\u001b[38;5;130;01m\\n\u001b[39;00m\u001b[38;5;124mAccuracy for each epoch: \u001b[39m\u001b[38;5;132;01m{\u001b[39;00m\u001b[43maccuracy_per_epoch_deeplab_segformer\u001b[49m\u001b[38;5;132;01m}\u001b[39;00m\u001b[38;5;124m\"\u001b[39m)\n",
      "\u001b[1;31mNameError\u001b[0m: name 'accuracy_per_epoch_deeplab_segformer' is not defined"
     ]
    }
   ],
   "source": [
    "# Check device\n",
    "device = torch.device(\"cuda\" if torch.cuda.is_available() else \"cpu\")\n",
    "\n",
    "# Initialize PSPNet with ResNet101 encoder\n",
    "num_classes = len(torch.unique(labels_train_tensor))  # Ensure this is correct\n",
    "model = smp.Segformer(\n",
    "    encoder_name=\"resnet101\", \n",
    "    encoder_weights=\"imagenet\", \n",
    "    in_channels=3, \n",
    "    classes=num_classes  # Number of output classes\n",
    ").to(device)\n",
    "\n",
    "# Loss function and optimizer\n",
    "criterion = nn.CrossEntropyLoss()  # Use BCEWithLogitsLoss() if binary segmentation\n",
    "optimizer = torch.optim.Adam(model.parameters(), lr=0.0001)\n",
    "\n",
    "# Number of epochs\n",
    "num_epochs = 10\n",
    "\n",
    "accuracy_per_epoch_segformer = []\n",
    "\n",
    "# Training loop\n",
    "for epoch in range(num_epochs):\n",
    "    model.train()\n",
    "    running_loss = 0.0\n",
    "    all_preds = []\n",
    "    all_labels = []\n",
    "\n",
    "    progress_bar = tqdm(train_loader, desc=f\"Epoch {epoch+1}/{num_epochs}\", leave=True)\n",
    "\n",
    "    for images, labels in progress_bar:\n",
    "        images, labels = images.to(device), labels.to(device)  # Move to GPU if available\n",
    "        optimizer.zero_grad()\n",
    "\n",
    "        # Forward pass\n",
    "        outputs = model(images)  # Shape: (batch, num_classes, height, width)\n",
    "\n",
    "        # Compute loss (CE expects labels as (batch, H, W), not one-hot)\n",
    "        loss = criterion(outputs, labels.long())  \n",
    "        loss.backward()\n",
    "        optimizer.step()\n",
    "\n",
    "        running_loss += loss.item()\n",
    "\n",
    "        # Get predictions (argmax over classes)\n",
    "        preds = torch.argmax(outputs, dim=1)  # Shape: (batch, H, W)\n",
    "        all_preds.append(preds.cpu().numpy())\n",
    "        all_labels.append(labels.cpu().numpy())\n",
    "\n",
    "        # Update progress bar\n",
    "        progress_bar.set_postfix(loss=loss.item())\n",
    "\n",
    "    # Compute metrics\n",
    "    all_preds = np.concatenate(all_preds, axis=0).flatten()\n",
    "    all_labels = np.concatenate(all_labels, axis=0).flatten()\n",
    "\n",
    "    accuracy = (all_preds == all_labels).mean()\n",
    "    f1 = f1_score(all_labels, all_preds, average='weighted')\n",
    "    precision = precision_score(all_labels, all_preds, average='weighted')\n",
    "    recall = recall_score(all_labels, all_preds, average='weighted')\n",
    "\n",
    "    # Store accuracy for this epoch\n",
    "    accuracy_per_epoch_segformer.append(accuracy)\n",
    "\n",
    "    print(f\"Epoch [{epoch+1}/{num_epochs}], Loss: {running_loss/len(train_loader):.4f}, \"\n",
    "          f\"Accuracy: {accuracy:.4f}, F1 Score: {f1:.4f}, Precision: {precision:.4f}, Recall: {recall:.4f}\")\n",
    "\n",
    "# After training, you can print the accuracies for all epochs\n",
    "print(f\"\\nAccuracy for each epoch: {accuracy_per_epoch_segformer}\")\n"
   ]
  },
  {
   "cell_type": "code",
   "execution_count": 39,
   "id": "0db75aa1-af2c-41a3-8c0a-103ddfa2aceb",
   "metadata": {},
   "outputs": [
    {
     "name": "stdout",
     "output_type": "stream",
     "text": [
      "\n",
      "Accuracy for each epoch: [0.49572679067502556, 0.7217050495199676, 0.7950437790041723, 0.8342756640358907, 0.8589306241485014, 0.874397381774736, 0.8896698912742678, 0.89290849649289, 0.9070071186616571, 0.9126445551983992]\n"
     ]
    }
   ],
   "source": [
    "# After training, you can print the accuracies for all epochs\n",
    "print(f\"\\nAccuracy for each epoch: {accuracy_per_epoch_segformer}\")"
   ]
  },
  {
   "cell_type": "code",
   "execution_count": 40,
   "id": "7fe868cb-82f5-4dbd-b3c9-dcf897e3bd98",
   "metadata": {
    "scrolled": true
   },
   "outputs": [
    {
     "name": "stderr",
     "output_type": "stream",
     "text": [
      "Validation: 100%|███████████████████████████████████████████████████████████████████| 12/12 [00:00<00:00, 12.55batch/s]\n"
     ]
    },
    {
     "name": "stdout",
     "output_type": "stream",
     "text": [
      "Validation Loss: 0.3050, Accuracy: 0.8688, F1 Score: 0.8678, Precision: 0.8687, Recall: 0.8688, IoU: 0.7685\n"
     ]
    },
    {
     "data": {
      "text/plain": [
       "(0.30500008290012676,\n",
       " 0.8687701017960258,\n",
       " 0.8678205428403105,\n",
       " 0.8686696833279604,\n",
       " 0.8687701017960258,\n",
       " 0.7685133468761146)"
      ]
     },
     "execution_count": 40,
     "metadata": {},
     "output_type": "execute_result"
    }
   ],
   "source": [
    " # Evaluate on the validation dataset\n",
    "evaluate_model(model, test_loader, criterion, device,num_classes)"
   ]
  },
  {
   "cell_type": "markdown",
   "id": "4abf57b2-73fc-45c9-89d8-6f650d08d8cf",
   "metadata": {},
   "source": [
    "Segformer has outperfromed the baseline and PSPNet model, but did not meet U-Net or DeepLabV3+ level performance. This may be due to its architecture being too simple to handle the complex segmentation task. "
   ]
  },
  {
   "cell_type": "markdown",
   "id": "af7b0d79-11f3-41ed-a36e-01816838017c",
   "metadata": {},
   "source": [
    "## model comparision"
   ]
  },
  {
   "cell_type": "code",
   "execution_count": 3,
   "id": "a53a6c99-500b-4cfd-9193-8769b6985976",
   "metadata": {},
   "outputs": [
    {
     "data": {
      "image/png": "[encoded data removed]",
      "text/plain": [
       "<Figure size 1000x600 with 1 Axes>"
      ]
     },
     "metadata": {},
     "output_type": "display_data"
    }
   ],
   "source": [
    "# Epoch range (10 epochs in your case)\n",
    "epochs = list(range(1, 11))\n",
    "\n",
    "# Create the plot\n",
    "plt.figure(figsize=(10, 6))\n",
    "\n",
    "# Plot each model's accuracy\n",
    "plt.plot(epochs, accuracy_per_epoch_baseline, label='Baseline', marker='o')\n",
    "plt.plot(epochs, accuracy_per_epoch_unet, label='U-Net', marker='s')\n",
    "plt.plot(epochs, accuracy_per_epoch_pspnet, label='PSPNet', marker='^')\n",
    "#plt.plot(epochs, accuracy_per_epoch_fcn, label='FCN', marker='x')\n",
    "plt.plot(epochs, accuracy_per_epoch_deeplab, label='DeepLabV3+', marker='d')\n",
    "#plt.plot(epochs, accuracy_per_epoch_deeplab_trans, label='DeepLabV3+ Trans', marker='p')\n",
    "plt.plot(epochs, accuracy_per_epoch_segformer, label='SegFormer', marker='H')\n",
    "\n",
    "# Add labels and title\n",
    "plt.xlabel('Epochs')\n",
    "plt.ylabel('Accuracy')\n",
    "plt.title('Training Accuracy vs Epochs for Different Models')\n",
    "\n",
    "# Add a legend\n",
    "plt.legend()\n",
    "\n",
    "# Show the plot\n",
    "plt.grid(True)\n",
    "plt.show()\n"
   ]
  },
  {
   "cell_type": "markdown",
   "id": "5199ffac-c547-46ac-a983-5739d42d65d3",
   "metadata": {},
   "source": [
    "From the plot, DeepLabV3+ has performed distinctively better than the other models. Hence, it will be used as the primary  model for this project."
   ]
  },
  {
   "cell_type": "code",
   "execution_count": null,
   "id": "4efa7fbf-b651-4d78-9f05-735daf62d0cd",
   "metadata": {},
   "outputs": [],
   "source": []
  }
 ],
 "metadata": {
  "kernelspec": {
   "display_name": "Python 3 (ipykernel)",
   "language": "python",
   "name": "python3"
  },
  "language_info": {
   "codemirror_mode": {
    "name": "ipython",
    "version": 3
   },
   "file_extension": ".py",
   "mimetype": "text/x-python",
   "name": "python",
   "nbconvert_exporter": "python",
   "pygments_lexer": "ipython3",
   "version": "3.12.7"
  }
 },
 "nbformat": 4,
 "nbformat_minor": 5
}
